{
 "cells": [
  {
   "cell_type": "code",
   "execution_count": 1,
   "id": "941b1c1a",
   "metadata": {},
   "outputs": [],
   "source": [
    "import pandas as pd\n",
    "import numpy as np \n",
    "import matplotlib.pyplot as plt \n",
    "import seaborn as sns\n",
    "from scipy.stats import ttest_ind\n",
    "from sklearn.metrics import confusion_matrix\n",
    "from  sklearn.metrics import classification_report\n",
    "from sklearn.preprocessing import LabelEncoder \n",
    "from sklearn .linear_model import LogisticRegression \n",
    "from sklearn.tree import DecisionTreeClassifier\n",
    "from sklearn .ensemble import RandomForestClassifier\n",
    "from sklearn.model_selection import train_test_split\n",
    "import sklearn.tree as tr\n",
    "from sklearn.tree import export_graphviz\n",
    "from sklearn.metrics import precision_score,recall_score,f1_score\n",
    "from sklearn.metrics import classification_report\n",
    "from sklearn.model_selection import GridSearchCV\n",
    "from sklearn.metrics import make_scorer"
   ]
  },
  {
   "cell_type": "code",
   "execution_count": 2,
   "id": "803002b8",
   "metadata": {},
   "outputs": [],
   "source": [
    "train=pd.read_csv(\"train.csv\")"
   ]
  },
  {
   "cell_type": "code",
   "execution_count": 3,
   "id": "8f792fec",
   "metadata": {},
   "outputs": [
    {
     "data": {
      "text/html": [
       "<div>\n",
       "<style scoped>\n",
       "    .dataframe tbody tr th:only-of-type {\n",
       "        vertical-align: middle;\n",
       "    }\n",
       "\n",
       "    .dataframe tbody tr th {\n",
       "        vertical-align: top;\n",
       "    }\n",
       "\n",
       "    .dataframe thead th {\n",
       "        text-align: right;\n",
       "    }\n",
       "</style>\n",
       "<table border=\"1\" class=\"dataframe\">\n",
       "  <thead>\n",
       "    <tr style=\"text-align: right;\">\n",
       "      <th></th>\n",
       "      <th>PassengerId</th>\n",
       "      <th>Survived</th>\n",
       "      <th>Pclass</th>\n",
       "      <th>Name</th>\n",
       "      <th>Sex</th>\n",
       "      <th>Age</th>\n",
       "      <th>SibSp</th>\n",
       "      <th>Parch</th>\n",
       "      <th>Ticket</th>\n",
       "      <th>Fare</th>\n",
       "      <th>Cabin</th>\n",
       "      <th>Embarked</th>\n",
       "    </tr>\n",
       "  </thead>\n",
       "  <tbody>\n",
       "    <tr>\n",
       "      <th>0</th>\n",
       "      <td>1</td>\n",
       "      <td>0</td>\n",
       "      <td>3</td>\n",
       "      <td>Braund, Mr. Owen Harris</td>\n",
       "      <td>male</td>\n",
       "      <td>22.0</td>\n",
       "      <td>1</td>\n",
       "      <td>0</td>\n",
       "      <td>A/5 21171</td>\n",
       "      <td>7.2500</td>\n",
       "      <td>NaN</td>\n",
       "      <td>S</td>\n",
       "    </tr>\n",
       "    <tr>\n",
       "      <th>1</th>\n",
       "      <td>2</td>\n",
       "      <td>1</td>\n",
       "      <td>1</td>\n",
       "      <td>Cumings, Mrs. John Bradley (Florence Briggs Th...</td>\n",
       "      <td>female</td>\n",
       "      <td>38.0</td>\n",
       "      <td>1</td>\n",
       "      <td>0</td>\n",
       "      <td>PC 17599</td>\n",
       "      <td>71.2833</td>\n",
       "      <td>C85</td>\n",
       "      <td>C</td>\n",
       "    </tr>\n",
       "    <tr>\n",
       "      <th>2</th>\n",
       "      <td>3</td>\n",
       "      <td>1</td>\n",
       "      <td>3</td>\n",
       "      <td>Heikkinen, Miss. Laina</td>\n",
       "      <td>female</td>\n",
       "      <td>26.0</td>\n",
       "      <td>0</td>\n",
       "      <td>0</td>\n",
       "      <td>STON/O2. 3101282</td>\n",
       "      <td>7.9250</td>\n",
       "      <td>NaN</td>\n",
       "      <td>S</td>\n",
       "    </tr>\n",
       "    <tr>\n",
       "      <th>3</th>\n",
       "      <td>4</td>\n",
       "      <td>1</td>\n",
       "      <td>1</td>\n",
       "      <td>Futrelle, Mrs. Jacques Heath (Lily May Peel)</td>\n",
       "      <td>female</td>\n",
       "      <td>35.0</td>\n",
       "      <td>1</td>\n",
       "      <td>0</td>\n",
       "      <td>113803</td>\n",
       "      <td>53.1000</td>\n",
       "      <td>C123</td>\n",
       "      <td>S</td>\n",
       "    </tr>\n",
       "    <tr>\n",
       "      <th>4</th>\n",
       "      <td>5</td>\n",
       "      <td>0</td>\n",
       "      <td>3</td>\n",
       "      <td>Allen, Mr. William Henry</td>\n",
       "      <td>male</td>\n",
       "      <td>35.0</td>\n",
       "      <td>0</td>\n",
       "      <td>0</td>\n",
       "      <td>373450</td>\n",
       "      <td>8.0500</td>\n",
       "      <td>NaN</td>\n",
       "      <td>S</td>\n",
       "    </tr>\n",
       "  </tbody>\n",
       "</table>\n",
       "</div>"
      ],
      "text/plain": [
       "   PassengerId  Survived  Pclass  \\\n",
       "0            1         0       3   \n",
       "1            2         1       1   \n",
       "2            3         1       3   \n",
       "3            4         1       1   \n",
       "4            5         0       3   \n",
       "\n",
       "                                                Name     Sex   Age  SibSp  \\\n",
       "0                            Braund, Mr. Owen Harris    male  22.0      1   \n",
       "1  Cumings, Mrs. John Bradley (Florence Briggs Th...  female  38.0      1   \n",
       "2                             Heikkinen, Miss. Laina  female  26.0      0   \n",
       "3       Futrelle, Mrs. Jacques Heath (Lily May Peel)  female  35.0      1   \n",
       "4                           Allen, Mr. William Henry    male  35.0      0   \n",
       "\n",
       "   Parch            Ticket     Fare Cabin Embarked  \n",
       "0      0         A/5 21171   7.2500   NaN        S  \n",
       "1      0          PC 17599  71.2833   C85        C  \n",
       "2      0  STON/O2. 3101282   7.9250   NaN        S  \n",
       "3      0            113803  53.1000  C123        S  \n",
       "4      0            373450   8.0500   NaN        S  "
      ]
     },
     "execution_count": 3,
     "metadata": {},
     "output_type": "execute_result"
    }
   ],
   "source": [
    "train.head()"
   ]
  },
  {
   "cell_type": "code",
   "execution_count": 4,
   "id": "e184fa29",
   "metadata": {},
   "outputs": [
    {
     "data": {
      "text/html": [
       "<div>\n",
       "<style scoped>\n",
       "    .dataframe tbody tr th:only-of-type {\n",
       "        vertical-align: middle;\n",
       "    }\n",
       "\n",
       "    .dataframe tbody tr th {\n",
       "        vertical-align: top;\n",
       "    }\n",
       "\n",
       "    .dataframe thead th {\n",
       "        text-align: right;\n",
       "    }\n",
       "</style>\n",
       "<table border=\"1\" class=\"dataframe\">\n",
       "  <thead>\n",
       "    <tr style=\"text-align: right;\">\n",
       "      <th></th>\n",
       "      <th>PassengerId</th>\n",
       "      <th>Survived</th>\n",
       "      <th>Pclass</th>\n",
       "      <th>Name</th>\n",
       "      <th>Sex</th>\n",
       "      <th>Age</th>\n",
       "      <th>SibSp</th>\n",
       "      <th>Parch</th>\n",
       "      <th>Ticket</th>\n",
       "      <th>Fare</th>\n",
       "      <th>Cabin</th>\n",
       "      <th>Embarked</th>\n",
       "    </tr>\n",
       "  </thead>\n",
       "  <tbody>\n",
       "    <tr>\n",
       "      <th>886</th>\n",
       "      <td>887</td>\n",
       "      <td>0</td>\n",
       "      <td>2</td>\n",
       "      <td>Montvila, Rev. Juozas</td>\n",
       "      <td>male</td>\n",
       "      <td>27.0</td>\n",
       "      <td>0</td>\n",
       "      <td>0</td>\n",
       "      <td>211536</td>\n",
       "      <td>13.00</td>\n",
       "      <td>NaN</td>\n",
       "      <td>S</td>\n",
       "    </tr>\n",
       "    <tr>\n",
       "      <th>887</th>\n",
       "      <td>888</td>\n",
       "      <td>1</td>\n",
       "      <td>1</td>\n",
       "      <td>Graham, Miss. Margaret Edith</td>\n",
       "      <td>female</td>\n",
       "      <td>19.0</td>\n",
       "      <td>0</td>\n",
       "      <td>0</td>\n",
       "      <td>112053</td>\n",
       "      <td>30.00</td>\n",
       "      <td>B42</td>\n",
       "      <td>S</td>\n",
       "    </tr>\n",
       "    <tr>\n",
       "      <th>888</th>\n",
       "      <td>889</td>\n",
       "      <td>0</td>\n",
       "      <td>3</td>\n",
       "      <td>Johnston, Miss. Catherine Helen \"Carrie\"</td>\n",
       "      <td>female</td>\n",
       "      <td>NaN</td>\n",
       "      <td>1</td>\n",
       "      <td>2</td>\n",
       "      <td>W./C. 6607</td>\n",
       "      <td>23.45</td>\n",
       "      <td>NaN</td>\n",
       "      <td>S</td>\n",
       "    </tr>\n",
       "    <tr>\n",
       "      <th>889</th>\n",
       "      <td>890</td>\n",
       "      <td>1</td>\n",
       "      <td>1</td>\n",
       "      <td>Behr, Mr. Karl Howell</td>\n",
       "      <td>male</td>\n",
       "      <td>26.0</td>\n",
       "      <td>0</td>\n",
       "      <td>0</td>\n",
       "      <td>111369</td>\n",
       "      <td>30.00</td>\n",
       "      <td>C148</td>\n",
       "      <td>C</td>\n",
       "    </tr>\n",
       "    <tr>\n",
       "      <th>890</th>\n",
       "      <td>891</td>\n",
       "      <td>0</td>\n",
       "      <td>3</td>\n",
       "      <td>Dooley, Mr. Patrick</td>\n",
       "      <td>male</td>\n",
       "      <td>32.0</td>\n",
       "      <td>0</td>\n",
       "      <td>0</td>\n",
       "      <td>370376</td>\n",
       "      <td>7.75</td>\n",
       "      <td>NaN</td>\n",
       "      <td>Q</td>\n",
       "    </tr>\n",
       "  </tbody>\n",
       "</table>\n",
       "</div>"
      ],
      "text/plain": [
       "     PassengerId  Survived  Pclass                                      Name  \\\n",
       "886          887         0       2                     Montvila, Rev. Juozas   \n",
       "887          888         1       1              Graham, Miss. Margaret Edith   \n",
       "888          889         0       3  Johnston, Miss. Catherine Helen \"Carrie\"   \n",
       "889          890         1       1                     Behr, Mr. Karl Howell   \n",
       "890          891         0       3                       Dooley, Mr. Patrick   \n",
       "\n",
       "        Sex   Age  SibSp  Parch      Ticket   Fare Cabin Embarked  \n",
       "886    male  27.0      0      0      211536  13.00   NaN        S  \n",
       "887  female  19.0      0      0      112053  30.00   B42        S  \n",
       "888  female   NaN      1      2  W./C. 6607  23.45   NaN        S  \n",
       "889    male  26.0      0      0      111369  30.00  C148        C  \n",
       "890    male  32.0      0      0      370376   7.75   NaN        Q  "
      ]
     },
     "execution_count": 4,
     "metadata": {},
     "output_type": "execute_result"
    }
   ],
   "source": [
    "train.tail()"
   ]
  },
  {
   "cell_type": "code",
   "execution_count": 5,
   "id": "123930c6",
   "metadata": {},
   "outputs": [
    {
     "data": {
      "text/html": [
       "<div>\n",
       "<style scoped>\n",
       "    .dataframe tbody tr th:only-of-type {\n",
       "        vertical-align: middle;\n",
       "    }\n",
       "\n",
       "    .dataframe tbody tr th {\n",
       "        vertical-align: top;\n",
       "    }\n",
       "\n",
       "    .dataframe thead th {\n",
       "        text-align: right;\n",
       "    }\n",
       "</style>\n",
       "<table border=\"1\" class=\"dataframe\">\n",
       "  <thead>\n",
       "    <tr style=\"text-align: right;\">\n",
       "      <th></th>\n",
       "      <th>PassengerId</th>\n",
       "      <th>Survived</th>\n",
       "      <th>Pclass</th>\n",
       "      <th>Age</th>\n",
       "      <th>SibSp</th>\n",
       "      <th>Parch</th>\n",
       "      <th>Fare</th>\n",
       "    </tr>\n",
       "  </thead>\n",
       "  <tbody>\n",
       "    <tr>\n",
       "      <th>count</th>\n",
       "      <td>891.000000</td>\n",
       "      <td>891.000000</td>\n",
       "      <td>891.000000</td>\n",
       "      <td>714.000000</td>\n",
       "      <td>891.000000</td>\n",
       "      <td>891.000000</td>\n",
       "      <td>891.000000</td>\n",
       "    </tr>\n",
       "    <tr>\n",
       "      <th>mean</th>\n",
       "      <td>446.000000</td>\n",
       "      <td>0.383838</td>\n",
       "      <td>2.308642</td>\n",
       "      <td>29.699118</td>\n",
       "      <td>0.523008</td>\n",
       "      <td>0.381594</td>\n",
       "      <td>32.204208</td>\n",
       "    </tr>\n",
       "    <tr>\n",
       "      <th>std</th>\n",
       "      <td>257.353842</td>\n",
       "      <td>0.486592</td>\n",
       "      <td>0.836071</td>\n",
       "      <td>14.526497</td>\n",
       "      <td>1.102743</td>\n",
       "      <td>0.806057</td>\n",
       "      <td>49.693429</td>\n",
       "    </tr>\n",
       "    <tr>\n",
       "      <th>min</th>\n",
       "      <td>1.000000</td>\n",
       "      <td>0.000000</td>\n",
       "      <td>1.000000</td>\n",
       "      <td>0.420000</td>\n",
       "      <td>0.000000</td>\n",
       "      <td>0.000000</td>\n",
       "      <td>0.000000</td>\n",
       "    </tr>\n",
       "    <tr>\n",
       "      <th>25%</th>\n",
       "      <td>223.500000</td>\n",
       "      <td>0.000000</td>\n",
       "      <td>2.000000</td>\n",
       "      <td>20.125000</td>\n",
       "      <td>0.000000</td>\n",
       "      <td>0.000000</td>\n",
       "      <td>7.910400</td>\n",
       "    </tr>\n",
       "    <tr>\n",
       "      <th>50%</th>\n",
       "      <td>446.000000</td>\n",
       "      <td>0.000000</td>\n",
       "      <td>3.000000</td>\n",
       "      <td>28.000000</td>\n",
       "      <td>0.000000</td>\n",
       "      <td>0.000000</td>\n",
       "      <td>14.454200</td>\n",
       "    </tr>\n",
       "    <tr>\n",
       "      <th>75%</th>\n",
       "      <td>668.500000</td>\n",
       "      <td>1.000000</td>\n",
       "      <td>3.000000</td>\n",
       "      <td>38.000000</td>\n",
       "      <td>1.000000</td>\n",
       "      <td>0.000000</td>\n",
       "      <td>31.000000</td>\n",
       "    </tr>\n",
       "    <tr>\n",
       "      <th>max</th>\n",
       "      <td>891.000000</td>\n",
       "      <td>1.000000</td>\n",
       "      <td>3.000000</td>\n",
       "      <td>80.000000</td>\n",
       "      <td>8.000000</td>\n",
       "      <td>6.000000</td>\n",
       "      <td>512.329200</td>\n",
       "    </tr>\n",
       "  </tbody>\n",
       "</table>\n",
       "</div>"
      ],
      "text/plain": [
       "       PassengerId    Survived      Pclass         Age       SibSp  \\\n",
       "count   891.000000  891.000000  891.000000  714.000000  891.000000   \n",
       "mean    446.000000    0.383838    2.308642   29.699118    0.523008   \n",
       "std     257.353842    0.486592    0.836071   14.526497    1.102743   \n",
       "min       1.000000    0.000000    1.000000    0.420000    0.000000   \n",
       "25%     223.500000    0.000000    2.000000   20.125000    0.000000   \n",
       "50%     446.000000    0.000000    3.000000   28.000000    0.000000   \n",
       "75%     668.500000    1.000000    3.000000   38.000000    1.000000   \n",
       "max     891.000000    1.000000    3.000000   80.000000    8.000000   \n",
       "\n",
       "            Parch        Fare  \n",
       "count  891.000000  891.000000  \n",
       "mean     0.381594   32.204208  \n",
       "std      0.806057   49.693429  \n",
       "min      0.000000    0.000000  \n",
       "25%      0.000000    7.910400  \n",
       "50%      0.000000   14.454200  \n",
       "75%      0.000000   31.000000  \n",
       "max      6.000000  512.329200  "
      ]
     },
     "execution_count": 5,
     "metadata": {},
     "output_type": "execute_result"
    }
   ],
   "source": [
    "train.describe()"
   ]
  },
  {
   "cell_type": "code",
   "execution_count": 6,
   "id": "db912201",
   "metadata": {},
   "outputs": [
    {
     "data": {
      "text/plain": [
       "<AxesSubplot:xlabel='Age', ylabel='Count'>"
      ]
     },
     "execution_count": 6,
     "metadata": {},
     "output_type": "execute_result"
    },
    {
     "data": {
      "image/png": "[encoded data removed]",
      "text/plain": [
       "<Figure size 432x288 with 1 Axes>"
      ]
     },
     "metadata": {
      "needs_background": "light"
     },
     "output_type": "display_data"
    }
   ],
   "source": [
    "sns.histplot(x=\"Age\",data=train)"
   ]
  },
  {
   "cell_type": "code",
   "execution_count": 7,
   "id": "92a56d15",
   "metadata": {},
   "outputs": [
    {
     "data": {
      "text/plain": [
       "<seaborn.axisgrid.FacetGrid at 0x1d77b48a148>"
      ]
     },
     "execution_count": 7,
     "metadata": {},
     "output_type": "execute_result"
    },
    {
     "data": {
      "image/png": "[encoded data removed]",
      "text/plain": [
       "<Figure size 360x360 with 1 Axes>"
      ]
     },
     "metadata": {
      "needs_background": "light"
     },
     "output_type": "display_data"
    }
   ],
   "source": [
    "sns.displot(x=\"Age\",data=train, kind=\"kde\")"
   ]
  },
  {
   "cell_type": "markdown",
   "id": "5ec30651",
   "metadata": {},
   "source": [
    "**observation**\n",
    "\n",
    "1. from this graph , we can see that the distribution of age closely appropraite normal \n",
    "2. from this graph we can deduce that there are more people between the age of 20 to 50 in ship "
   ]
  },
  {
   "cell_type": "code",
   "execution_count": 8,
   "id": "dd22b3ce",
   "metadata": {},
   "outputs": [],
   "source": [
    "mean=train['Age'].mean()\n",
    "train['Age'].fillna(mean,inplace=True)"
   ]
  },
  {
   "cell_type": "code",
   "execution_count": 9,
   "id": "a9674580",
   "metadata": {},
   "outputs": [
    {
     "name": "stdout",
     "output_type": "stream",
     "text": [
      "<class 'pandas.core.frame.DataFrame'>\n",
      "RangeIndex: 891 entries, 0 to 890\n",
      "Data columns (total 12 columns):\n",
      " #   Column       Non-Null Count  Dtype  \n",
      "---  ------       --------------  -----  \n",
      " 0   PassengerId  891 non-null    int64  \n",
      " 1   Survived     891 non-null    int64  \n",
      " 2   Pclass       891 non-null    int64  \n",
      " 3   Name         891 non-null    object \n",
      " 4   Sex          891 non-null    object \n",
      " 5   Age          891 non-null    float64\n",
      " 6   SibSp        891 non-null    int64  \n",
      " 7   Parch        891 non-null    int64  \n",
      " 8   Ticket       891 non-null    object \n",
      " 9   Fare         891 non-null    float64\n",
      " 10  Cabin        204 non-null    object \n",
      " 11  Embarked     889 non-null    object \n",
      "dtypes: float64(2), int64(5), object(5)\n",
      "memory usage: 83.7+ KB\n"
     ]
    }
   ],
   "source": [
    "train.info()"
   ]
  },
  {
   "cell_type": "code",
   "execution_count": 10,
   "id": "2d23e129",
   "metadata": {},
   "outputs": [
    {
     "data": {
      "text/plain": [
       "0    549\n",
       "1    342\n",
       "Name: Survived, dtype: int64"
      ]
     },
     "execution_count": 10,
     "metadata": {},
     "output_type": "execute_result"
    }
   ],
   "source": [
    "train['Survived'].value_counts()"
   ]
  },
  {
   "cell_type": "markdown",
   "id": "bc73fc1a",
   "metadata": {},
   "source": [
    "**observation**\n",
    "\n",
    "1. we can observe that 549 persons died from the ship wreck \n",
    "2. we can observe that 342 persons survived the ship wreck"
   ]
  },
  {
   "cell_type": "code",
   "execution_count": 11,
   "id": "eae9776b",
   "metadata": {},
   "outputs": [
    {
     "data": {
      "text/plain": [
       "0    61.616162\n",
       "1    38.383838\n",
       "Name: Survived, dtype: float64"
      ]
     },
     "execution_count": 11,
     "metadata": {},
     "output_type": "execute_result"
    }
   ],
   "source": [
    "train['Survived'].value_counts(normalize=True)*100"
   ]
  },
  {
   "cell_type": "markdown",
   "id": "d4e44fa6",
   "metadata": {},
   "source": [
    "**obsevation**\n",
    "\n",
    "1. we have more people that died from the ship wreck"
   ]
  },
  {
   "cell_type": "code",
   "execution_count": 12,
   "id": "1b12b288",
   "metadata": {},
   "outputs": [
    {
     "data": {
      "image/png": "[encoded data removed]",
      "text/plain": [
       "<Figure size 432x288 with 1 Axes>"
      ]
     },
     "metadata": {
      "needs_background": "light"
     },
     "output_type": "display_data"
    }
   ],
   "source": [
    "train['Survived'].value_counts().plot(kind='bar')\n",
    "plt.title('Distribution of Survived')\n",
    "plt.xlabel('Survived')\n",
    "plt.ylabel('Count')\n",
    "plt.show()"
   ]
  },
  {
   "cell_type": "code",
   "execution_count": null,
   "id": "20b2f6d8",
   "metadata": {},
   "outputs": [],
   "source": []
  },
  {
   "cell_type": "code",
   "execution_count": 13,
   "id": "367939e7",
   "metadata": {},
   "outputs": [
    {
     "data": {
      "text/html": [
       "<div>\n",
       "<style scoped>\n",
       "    .dataframe tbody tr th:only-of-type {\n",
       "        vertical-align: middle;\n",
       "    }\n",
       "\n",
       "    .dataframe tbody tr th {\n",
       "        vertical-align: top;\n",
       "    }\n",
       "\n",
       "    .dataframe thead th {\n",
       "        text-align: right;\n",
       "    }\n",
       "</style>\n",
       "<table border=\"1\" class=\"dataframe\">\n",
       "  <thead>\n",
       "    <tr style=\"text-align: right;\">\n",
       "      <th></th>\n",
       "      <th>PassengerId</th>\n",
       "      <th>Survived</th>\n",
       "      <th>Pclass</th>\n",
       "      <th>Name</th>\n",
       "      <th>Sex</th>\n",
       "      <th>Age</th>\n",
       "      <th>SibSp</th>\n",
       "      <th>Parch</th>\n",
       "      <th>Ticket</th>\n",
       "      <th>Fare</th>\n",
       "      <th>Cabin</th>\n",
       "      <th>Embarked</th>\n",
       "    </tr>\n",
       "  </thead>\n",
       "  <tbody>\n",
       "    <tr>\n",
       "      <th>1</th>\n",
       "      <td>2</td>\n",
       "      <td>1</td>\n",
       "      <td>1</td>\n",
       "      <td>Cumings, Mrs. John Bradley (Florence Briggs Th...</td>\n",
       "      <td>female</td>\n",
       "      <td>38.0</td>\n",
       "      <td>1</td>\n",
       "      <td>0</td>\n",
       "      <td>PC 17599</td>\n",
       "      <td>71.2833</td>\n",
       "      <td>C85</td>\n",
       "      <td>C</td>\n",
       "    </tr>\n",
       "    <tr>\n",
       "      <th>2</th>\n",
       "      <td>3</td>\n",
       "      <td>1</td>\n",
       "      <td>3</td>\n",
       "      <td>Heikkinen, Miss. Laina</td>\n",
       "      <td>female</td>\n",
       "      <td>26.0</td>\n",
       "      <td>0</td>\n",
       "      <td>0</td>\n",
       "      <td>STON/O2. 3101282</td>\n",
       "      <td>7.9250</td>\n",
       "      <td>NaN</td>\n",
       "      <td>S</td>\n",
       "    </tr>\n",
       "    <tr>\n",
       "      <th>3</th>\n",
       "      <td>4</td>\n",
       "      <td>1</td>\n",
       "      <td>1</td>\n",
       "      <td>Futrelle, Mrs. Jacques Heath (Lily May Peel)</td>\n",
       "      <td>female</td>\n",
       "      <td>35.0</td>\n",
       "      <td>1</td>\n",
       "      <td>0</td>\n",
       "      <td>113803</td>\n",
       "      <td>53.1000</td>\n",
       "      <td>C123</td>\n",
       "      <td>S</td>\n",
       "    </tr>\n",
       "    <tr>\n",
       "      <th>8</th>\n",
       "      <td>9</td>\n",
       "      <td>1</td>\n",
       "      <td>3</td>\n",
       "      <td>Johnson, Mrs. Oscar W (Elisabeth Vilhelmina Berg)</td>\n",
       "      <td>female</td>\n",
       "      <td>27.0</td>\n",
       "      <td>0</td>\n",
       "      <td>2</td>\n",
       "      <td>347742</td>\n",
       "      <td>11.1333</td>\n",
       "      <td>NaN</td>\n",
       "      <td>S</td>\n",
       "    </tr>\n",
       "    <tr>\n",
       "      <th>9</th>\n",
       "      <td>10</td>\n",
       "      <td>1</td>\n",
       "      <td>2</td>\n",
       "      <td>Nasser, Mrs. Nicholas (Adele Achem)</td>\n",
       "      <td>female</td>\n",
       "      <td>14.0</td>\n",
       "      <td>1</td>\n",
       "      <td>0</td>\n",
       "      <td>237736</td>\n",
       "      <td>30.0708</td>\n",
       "      <td>NaN</td>\n",
       "      <td>C</td>\n",
       "    </tr>\n",
       "    <tr>\n",
       "      <th>...</th>\n",
       "      <td>...</td>\n",
       "      <td>...</td>\n",
       "      <td>...</td>\n",
       "      <td>...</td>\n",
       "      <td>...</td>\n",
       "      <td>...</td>\n",
       "      <td>...</td>\n",
       "      <td>...</td>\n",
       "      <td>...</td>\n",
       "      <td>...</td>\n",
       "      <td>...</td>\n",
       "      <td>...</td>\n",
       "    </tr>\n",
       "    <tr>\n",
       "      <th>875</th>\n",
       "      <td>876</td>\n",
       "      <td>1</td>\n",
       "      <td>3</td>\n",
       "      <td>Najib, Miss. Adele Kiamie \"Jane\"</td>\n",
       "      <td>female</td>\n",
       "      <td>15.0</td>\n",
       "      <td>0</td>\n",
       "      <td>0</td>\n",
       "      <td>2667</td>\n",
       "      <td>7.2250</td>\n",
       "      <td>NaN</td>\n",
       "      <td>C</td>\n",
       "    </tr>\n",
       "    <tr>\n",
       "      <th>879</th>\n",
       "      <td>880</td>\n",
       "      <td>1</td>\n",
       "      <td>1</td>\n",
       "      <td>Potter, Mrs. Thomas Jr (Lily Alexenia Wilson)</td>\n",
       "      <td>female</td>\n",
       "      <td>56.0</td>\n",
       "      <td>0</td>\n",
       "      <td>1</td>\n",
       "      <td>11767</td>\n",
       "      <td>83.1583</td>\n",
       "      <td>C50</td>\n",
       "      <td>C</td>\n",
       "    </tr>\n",
       "    <tr>\n",
       "      <th>880</th>\n",
       "      <td>881</td>\n",
       "      <td>1</td>\n",
       "      <td>2</td>\n",
       "      <td>Shelley, Mrs. William (Imanita Parrish Hall)</td>\n",
       "      <td>female</td>\n",
       "      <td>25.0</td>\n",
       "      <td>0</td>\n",
       "      <td>1</td>\n",
       "      <td>230433</td>\n",
       "      <td>26.0000</td>\n",
       "      <td>NaN</td>\n",
       "      <td>S</td>\n",
       "    </tr>\n",
       "    <tr>\n",
       "      <th>887</th>\n",
       "      <td>888</td>\n",
       "      <td>1</td>\n",
       "      <td>1</td>\n",
       "      <td>Graham, Miss. Margaret Edith</td>\n",
       "      <td>female</td>\n",
       "      <td>19.0</td>\n",
       "      <td>0</td>\n",
       "      <td>0</td>\n",
       "      <td>112053</td>\n",
       "      <td>30.0000</td>\n",
       "      <td>B42</td>\n",
       "      <td>S</td>\n",
       "    </tr>\n",
       "    <tr>\n",
       "      <th>889</th>\n",
       "      <td>890</td>\n",
       "      <td>1</td>\n",
       "      <td>1</td>\n",
       "      <td>Behr, Mr. Karl Howell</td>\n",
       "      <td>male</td>\n",
       "      <td>26.0</td>\n",
       "      <td>0</td>\n",
       "      <td>0</td>\n",
       "      <td>111369</td>\n",
       "      <td>30.0000</td>\n",
       "      <td>C148</td>\n",
       "      <td>C</td>\n",
       "    </tr>\n",
       "  </tbody>\n",
       "</table>\n",
       "<p>342 rows × 12 columns</p>\n",
       "</div>"
      ],
      "text/plain": [
       "     PassengerId  Survived  Pclass  \\\n",
       "1              2         1       1   \n",
       "2              3         1       3   \n",
       "3              4         1       1   \n",
       "8              9         1       3   \n",
       "9             10         1       2   \n",
       "..           ...       ...     ...   \n",
       "875          876         1       3   \n",
       "879          880         1       1   \n",
       "880          881         1       2   \n",
       "887          888         1       1   \n",
       "889          890         1       1   \n",
       "\n",
       "                                                  Name     Sex   Age  SibSp  \\\n",
       "1    Cumings, Mrs. John Bradley (Florence Briggs Th...  female  38.0      1   \n",
       "2                               Heikkinen, Miss. Laina  female  26.0      0   \n",
       "3         Futrelle, Mrs. Jacques Heath (Lily May Peel)  female  35.0      1   \n",
       "8    Johnson, Mrs. Oscar W (Elisabeth Vilhelmina Berg)  female  27.0      0   \n",
       "9                  Nasser, Mrs. Nicholas (Adele Achem)  female  14.0      1   \n",
       "..                                                 ...     ...   ...    ...   \n",
       "875                   Najib, Miss. Adele Kiamie \"Jane\"  female  15.0      0   \n",
       "879      Potter, Mrs. Thomas Jr (Lily Alexenia Wilson)  female  56.0      0   \n",
       "880       Shelley, Mrs. William (Imanita Parrish Hall)  female  25.0      0   \n",
       "887                       Graham, Miss. Margaret Edith  female  19.0      0   \n",
       "889                              Behr, Mr. Karl Howell    male  26.0      0   \n",
       "\n",
       "     Parch            Ticket     Fare Cabin Embarked  \n",
       "1        0          PC 17599  71.2833   C85        C  \n",
       "2        0  STON/O2. 3101282   7.9250   NaN        S  \n",
       "3        0            113803  53.1000  C123        S  \n",
       "8        2            347742  11.1333   NaN        S  \n",
       "9        0            237736  30.0708   NaN        C  \n",
       "..     ...               ...      ...   ...      ...  \n",
       "875      0              2667   7.2250   NaN        C  \n",
       "879      1             11767  83.1583   C50        C  \n",
       "880      1            230433  26.0000   NaN        S  \n",
       "887      0            112053  30.0000   B42        S  \n",
       "889      0            111369  30.0000  C148        C  \n",
       "\n",
       "[342 rows x 12 columns]"
      ]
     },
     "execution_count": 13,
     "metadata": {},
     "output_type": "execute_result"
    }
   ],
   "source": [
    "# distribution of Survived and non Survived\n",
    "Survived = train[train['Survived'] == 1]\n",
    "Survived"
   ]
  },
  {
   "cell_type": "code",
   "execution_count": null,
   "id": "9f7d2ba4",
   "metadata": {},
   "outputs": [],
   "source": []
  },
  {
   "cell_type": "code",
   "execution_count": 14,
   "id": "9d31ad8b",
   "metadata": {},
   "outputs": [
    {
     "data": {
      "text/html": [
       "<div>\n",
       "<style scoped>\n",
       "    .dataframe tbody tr th:only-of-type {\n",
       "        vertical-align: middle;\n",
       "    }\n",
       "\n",
       "    .dataframe tbody tr th {\n",
       "        vertical-align: top;\n",
       "    }\n",
       "\n",
       "    .dataframe thead th {\n",
       "        text-align: right;\n",
       "    }\n",
       "</style>\n",
       "<table border=\"1\" class=\"dataframe\">\n",
       "  <thead>\n",
       "    <tr style=\"text-align: right;\">\n",
       "      <th></th>\n",
       "      <th>PassengerId</th>\n",
       "      <th>Survived</th>\n",
       "      <th>Pclass</th>\n",
       "      <th>Name</th>\n",
       "      <th>Sex</th>\n",
       "      <th>Age</th>\n",
       "      <th>SibSp</th>\n",
       "      <th>Parch</th>\n",
       "      <th>Ticket</th>\n",
       "      <th>Fare</th>\n",
       "      <th>Cabin</th>\n",
       "      <th>Embarked</th>\n",
       "    </tr>\n",
       "  </thead>\n",
       "  <tbody>\n",
       "    <tr>\n",
       "      <th>0</th>\n",
       "      <td>1</td>\n",
       "      <td>0</td>\n",
       "      <td>3</td>\n",
       "      <td>Braund, Mr. Owen Harris</td>\n",
       "      <td>male</td>\n",
       "      <td>22.000000</td>\n",
       "      <td>1</td>\n",
       "      <td>0</td>\n",
       "      <td>A/5 21171</td>\n",
       "      <td>7.2500</td>\n",
       "      <td>NaN</td>\n",
       "      <td>S</td>\n",
       "    </tr>\n",
       "    <tr>\n",
       "      <th>4</th>\n",
       "      <td>5</td>\n",
       "      <td>0</td>\n",
       "      <td>3</td>\n",
       "      <td>Allen, Mr. William Henry</td>\n",
       "      <td>male</td>\n",
       "      <td>35.000000</td>\n",
       "      <td>0</td>\n",
       "      <td>0</td>\n",
       "      <td>373450</td>\n",
       "      <td>8.0500</td>\n",
       "      <td>NaN</td>\n",
       "      <td>S</td>\n",
       "    </tr>\n",
       "    <tr>\n",
       "      <th>5</th>\n",
       "      <td>6</td>\n",
       "      <td>0</td>\n",
       "      <td>3</td>\n",
       "      <td>Moran, Mr. James</td>\n",
       "      <td>male</td>\n",
       "      <td>29.699118</td>\n",
       "      <td>0</td>\n",
       "      <td>0</td>\n",
       "      <td>330877</td>\n",
       "      <td>8.4583</td>\n",
       "      <td>NaN</td>\n",
       "      <td>Q</td>\n",
       "    </tr>\n",
       "    <tr>\n",
       "      <th>6</th>\n",
       "      <td>7</td>\n",
       "      <td>0</td>\n",
       "      <td>1</td>\n",
       "      <td>McCarthy, Mr. Timothy J</td>\n",
       "      <td>male</td>\n",
       "      <td>54.000000</td>\n",
       "      <td>0</td>\n",
       "      <td>0</td>\n",
       "      <td>17463</td>\n",
       "      <td>51.8625</td>\n",
       "      <td>E46</td>\n",
       "      <td>S</td>\n",
       "    </tr>\n",
       "    <tr>\n",
       "      <th>7</th>\n",
       "      <td>8</td>\n",
       "      <td>0</td>\n",
       "      <td>3</td>\n",
       "      <td>Palsson, Master. Gosta Leonard</td>\n",
       "      <td>male</td>\n",
       "      <td>2.000000</td>\n",
       "      <td>3</td>\n",
       "      <td>1</td>\n",
       "      <td>349909</td>\n",
       "      <td>21.0750</td>\n",
       "      <td>NaN</td>\n",
       "      <td>S</td>\n",
       "    </tr>\n",
       "    <tr>\n",
       "      <th>...</th>\n",
       "      <td>...</td>\n",
       "      <td>...</td>\n",
       "      <td>...</td>\n",
       "      <td>...</td>\n",
       "      <td>...</td>\n",
       "      <td>...</td>\n",
       "      <td>...</td>\n",
       "      <td>...</td>\n",
       "      <td>...</td>\n",
       "      <td>...</td>\n",
       "      <td>...</td>\n",
       "      <td>...</td>\n",
       "    </tr>\n",
       "    <tr>\n",
       "      <th>884</th>\n",
       "      <td>885</td>\n",
       "      <td>0</td>\n",
       "      <td>3</td>\n",
       "      <td>Sutehall, Mr. Henry Jr</td>\n",
       "      <td>male</td>\n",
       "      <td>25.000000</td>\n",
       "      <td>0</td>\n",
       "      <td>0</td>\n",
       "      <td>SOTON/OQ 392076</td>\n",
       "      <td>7.0500</td>\n",
       "      <td>NaN</td>\n",
       "      <td>S</td>\n",
       "    </tr>\n",
       "    <tr>\n",
       "      <th>885</th>\n",
       "      <td>886</td>\n",
       "      <td>0</td>\n",
       "      <td>3</td>\n",
       "      <td>Rice, Mrs. William (Margaret Norton)</td>\n",
       "      <td>female</td>\n",
       "      <td>39.000000</td>\n",
       "      <td>0</td>\n",
       "      <td>5</td>\n",
       "      <td>382652</td>\n",
       "      <td>29.1250</td>\n",
       "      <td>NaN</td>\n",
       "      <td>Q</td>\n",
       "    </tr>\n",
       "    <tr>\n",
       "      <th>886</th>\n",
       "      <td>887</td>\n",
       "      <td>0</td>\n",
       "      <td>2</td>\n",
       "      <td>Montvila, Rev. Juozas</td>\n",
       "      <td>male</td>\n",
       "      <td>27.000000</td>\n",
       "      <td>0</td>\n",
       "      <td>0</td>\n",
       "      <td>211536</td>\n",
       "      <td>13.0000</td>\n",
       "      <td>NaN</td>\n",
       "      <td>S</td>\n",
       "    </tr>\n",
       "    <tr>\n",
       "      <th>888</th>\n",
       "      <td>889</td>\n",
       "      <td>0</td>\n",
       "      <td>3</td>\n",
       "      <td>Johnston, Miss. Catherine Helen \"Carrie\"</td>\n",
       "      <td>female</td>\n",
       "      <td>29.699118</td>\n",
       "      <td>1</td>\n",
       "      <td>2</td>\n",
       "      <td>W./C. 6607</td>\n",
       "      <td>23.4500</td>\n",
       "      <td>NaN</td>\n",
       "      <td>S</td>\n",
       "    </tr>\n",
       "    <tr>\n",
       "      <th>890</th>\n",
       "      <td>891</td>\n",
       "      <td>0</td>\n",
       "      <td>3</td>\n",
       "      <td>Dooley, Mr. Patrick</td>\n",
       "      <td>male</td>\n",
       "      <td>32.000000</td>\n",
       "      <td>0</td>\n",
       "      <td>0</td>\n",
       "      <td>370376</td>\n",
       "      <td>7.7500</td>\n",
       "      <td>NaN</td>\n",
       "      <td>Q</td>\n",
       "    </tr>\n",
       "  </tbody>\n",
       "</table>\n",
       "<p>549 rows × 12 columns</p>\n",
       "</div>"
      ],
      "text/plain": [
       "     PassengerId  Survived  Pclass                                      Name  \\\n",
       "0              1         0       3                   Braund, Mr. Owen Harris   \n",
       "4              5         0       3                  Allen, Mr. William Henry   \n",
       "5              6         0       3                          Moran, Mr. James   \n",
       "6              7         0       1                   McCarthy, Mr. Timothy J   \n",
       "7              8         0       3            Palsson, Master. Gosta Leonard   \n",
       "..           ...       ...     ...                                       ...   \n",
       "884          885         0       3                    Sutehall, Mr. Henry Jr   \n",
       "885          886         0       3      Rice, Mrs. William (Margaret Norton)   \n",
       "886          887         0       2                     Montvila, Rev. Juozas   \n",
       "888          889         0       3  Johnston, Miss. Catherine Helen \"Carrie\"   \n",
       "890          891         0       3                       Dooley, Mr. Patrick   \n",
       "\n",
       "        Sex        Age  SibSp  Parch           Ticket     Fare Cabin Embarked  \n",
       "0      male  22.000000      1      0        A/5 21171   7.2500   NaN        S  \n",
       "4      male  35.000000      0      0           373450   8.0500   NaN        S  \n",
       "5      male  29.699118      0      0           330877   8.4583   NaN        Q  \n",
       "6      male  54.000000      0      0            17463  51.8625   E46        S  \n",
       "7      male   2.000000      3      1           349909  21.0750   NaN        S  \n",
       "..      ...        ...    ...    ...              ...      ...   ...      ...  \n",
       "884    male  25.000000      0      0  SOTON/OQ 392076   7.0500   NaN        S  \n",
       "885  female  39.000000      0      5           382652  29.1250   NaN        Q  \n",
       "886    male  27.000000      0      0           211536  13.0000   NaN        S  \n",
       "888  female  29.699118      1      2       W./C. 6607  23.4500   NaN        S  \n",
       "890    male  32.000000      0      0           370376   7.7500   NaN        Q  \n",
       "\n",
       "[549 rows x 12 columns]"
      ]
     },
     "execution_count": 14,
     "metadata": {},
     "output_type": "execute_result"
    }
   ],
   "source": [
    "non_Survived = train[train['Survived'] == 0]\n",
    "non_Survived"
   ]
  },
  {
   "cell_type": "code",
   "execution_count": null,
   "id": "a98aa3cf",
   "metadata": {},
   "outputs": [],
   "source": []
  },
  {
   "cell_type": "code",
   "execution_count": 15,
   "id": "3d648905",
   "metadata": {},
   "outputs": [
    {
     "data": {
      "text/plain": [
       "<AxesSubplot:xlabel='Survived', ylabel='Age'>"
      ]
     },
     "execution_count": 15,
     "metadata": {},
     "output_type": "execute_result"
    },
    {
     "data": {
      "image/png": "[encoded data removed]",
      "text/plain": [
       "<Figure size 432x288 with 1 Axes>"
      ]
     },
     "metadata": {
      "needs_background": "light"
     },
     "output_type": "display_data"
    }
   ],
   "source": [
    "sns.boxplot(x=\"Survived\",y=\"Age\", data=train)"
   ]
  },
  {
   "cell_type": "markdown",
   "id": "bb9675f9",
   "metadata": {},
   "source": [
    "**observation**\n",
    "\n",
    "1. 75 percent of people below the age of 35 died from the shipwreck.\n",
    "\n",
    "75 percent of people below the age of 35 survived the shipwreck.\n",
    "\n",
    "the rate of people that survived has high variablity(more spread)\n",
    "\n",
    "due to the presence of outliers, we can then conclude that if childern from 8 years below dies it is said to be an abnormality \n",
    "\n",
    "due to the closeness of the median , we can conclude that age is not really a  signnificant factor to determine survival rate \n",
    "\n"
   ]
  },
  {
   "cell_type": "code",
   "execution_count": 16,
   "id": "503b4ad5",
   "metadata": {},
   "outputs": [],
   "source": [
    "def bin_age(x):\n",
    "    if x<=12:\n",
    "        return\"child\"\n",
    "    if x>=13 and x<=19:\n",
    "        return\"teen\"\n",
    "    if x>=20 and x<=35:\n",
    "         return \"youth\"\n",
    "    if x>=36 and x<59:\n",
    "        return \"middle aged\"\n",
    "    if x>=60:\n",
    "        return\"aged\"\n",
    "    "
   ]
  },
  {
   "cell_type": "code",
   "execution_count": 17,
   "id": "770d0523",
   "metadata": {},
   "outputs": [],
   "source": [
    "train[\"Age_group\"]=train[\"Age\"].apply(lambda x: bin_age(x))"
   ]
  },
  {
   "cell_type": "code",
   "execution_count": 18,
   "id": "c8afd37a",
   "metadata": {},
   "outputs": [
    {
     "data": {
      "text/html": [
       "<div>\n",
       "<style scoped>\n",
       "    .dataframe tbody tr th:only-of-type {\n",
       "        vertical-align: middle;\n",
       "    }\n",
       "\n",
       "    .dataframe tbody tr th {\n",
       "        vertical-align: top;\n",
       "    }\n",
       "\n",
       "    .dataframe thead th {\n",
       "        text-align: right;\n",
       "    }\n",
       "</style>\n",
       "<table border=\"1\" class=\"dataframe\">\n",
       "  <thead>\n",
       "    <tr style=\"text-align: right;\">\n",
       "      <th></th>\n",
       "      <th>PassengerId</th>\n",
       "      <th>Survived</th>\n",
       "      <th>Pclass</th>\n",
       "      <th>Name</th>\n",
       "      <th>Sex</th>\n",
       "      <th>Age</th>\n",
       "      <th>SibSp</th>\n",
       "      <th>Parch</th>\n",
       "      <th>Ticket</th>\n",
       "      <th>Fare</th>\n",
       "      <th>Cabin</th>\n",
       "      <th>Embarked</th>\n",
       "      <th>Age_group</th>\n",
       "    </tr>\n",
       "  </thead>\n",
       "  <tbody>\n",
       "    <tr>\n",
       "      <th>0</th>\n",
       "      <td>1</td>\n",
       "      <td>0</td>\n",
       "      <td>3</td>\n",
       "      <td>Braund, Mr. Owen Harris</td>\n",
       "      <td>male</td>\n",
       "      <td>22.0</td>\n",
       "      <td>1</td>\n",
       "      <td>0</td>\n",
       "      <td>A/5 21171</td>\n",
       "      <td>7.2500</td>\n",
       "      <td>NaN</td>\n",
       "      <td>S</td>\n",
       "      <td>youth</td>\n",
       "    </tr>\n",
       "    <tr>\n",
       "      <th>1</th>\n",
       "      <td>2</td>\n",
       "      <td>1</td>\n",
       "      <td>1</td>\n",
       "      <td>Cumings, Mrs. John Bradley (Florence Briggs Th...</td>\n",
       "      <td>female</td>\n",
       "      <td>38.0</td>\n",
       "      <td>1</td>\n",
       "      <td>0</td>\n",
       "      <td>PC 17599</td>\n",
       "      <td>71.2833</td>\n",
       "      <td>C85</td>\n",
       "      <td>C</td>\n",
       "      <td>middle aged</td>\n",
       "    </tr>\n",
       "    <tr>\n",
       "      <th>2</th>\n",
       "      <td>3</td>\n",
       "      <td>1</td>\n",
       "      <td>3</td>\n",
       "      <td>Heikkinen, Miss. Laina</td>\n",
       "      <td>female</td>\n",
       "      <td>26.0</td>\n",
       "      <td>0</td>\n",
       "      <td>0</td>\n",
       "      <td>STON/O2. 3101282</td>\n",
       "      <td>7.9250</td>\n",
       "      <td>NaN</td>\n",
       "      <td>S</td>\n",
       "      <td>youth</td>\n",
       "    </tr>\n",
       "    <tr>\n",
       "      <th>3</th>\n",
       "      <td>4</td>\n",
       "      <td>1</td>\n",
       "      <td>1</td>\n",
       "      <td>Futrelle, Mrs. Jacques Heath (Lily May Peel)</td>\n",
       "      <td>female</td>\n",
       "      <td>35.0</td>\n",
       "      <td>1</td>\n",
       "      <td>0</td>\n",
       "      <td>113803</td>\n",
       "      <td>53.1000</td>\n",
       "      <td>C123</td>\n",
       "      <td>S</td>\n",
       "      <td>youth</td>\n",
       "    </tr>\n",
       "    <tr>\n",
       "      <th>4</th>\n",
       "      <td>5</td>\n",
       "      <td>0</td>\n",
       "      <td>3</td>\n",
       "      <td>Allen, Mr. William Henry</td>\n",
       "      <td>male</td>\n",
       "      <td>35.0</td>\n",
       "      <td>0</td>\n",
       "      <td>0</td>\n",
       "      <td>373450</td>\n",
       "      <td>8.0500</td>\n",
       "      <td>NaN</td>\n",
       "      <td>S</td>\n",
       "      <td>youth</td>\n",
       "    </tr>\n",
       "  </tbody>\n",
       "</table>\n",
       "</div>"
      ],
      "text/plain": [
       "   PassengerId  Survived  Pclass  \\\n",
       "0            1         0       3   \n",
       "1            2         1       1   \n",
       "2            3         1       3   \n",
       "3            4         1       1   \n",
       "4            5         0       3   \n",
       "\n",
       "                                                Name     Sex   Age  SibSp  \\\n",
       "0                            Braund, Mr. Owen Harris    male  22.0      1   \n",
       "1  Cumings, Mrs. John Bradley (Florence Briggs Th...  female  38.0      1   \n",
       "2                             Heikkinen, Miss. Laina  female  26.0      0   \n",
       "3       Futrelle, Mrs. Jacques Heath (Lily May Peel)  female  35.0      1   \n",
       "4                           Allen, Mr. William Henry    male  35.0      0   \n",
       "\n",
       "   Parch            Ticket     Fare Cabin Embarked    Age_group  \n",
       "0      0         A/5 21171   7.2500   NaN        S        youth  \n",
       "1      0          PC 17599  71.2833   C85        C  middle aged  \n",
       "2      0  STON/O2. 3101282   7.9250   NaN        S        youth  \n",
       "3      0            113803  53.1000  C123        S        youth  \n",
       "4      0            373450   8.0500   NaN        S        youth  "
      ]
     },
     "execution_count": 18,
     "metadata": {},
     "output_type": "execute_result"
    }
   ],
   "source": [
    "train.head()"
   ]
  },
  {
   "cell_type": "code",
   "execution_count": 19,
   "id": "b213df03",
   "metadata": {},
   "outputs": [
    {
     "data": {
      "image/png": "[encoded data removed]",
      "text/plain": [
       "<Figure size 576x216 with 2 Axes>"
      ]
     },
     "metadata": {
      "needs_background": "light"
     },
     "output_type": "display_data"
    }
   ],
   "source": [
    "contigency_pct = pd.crosstab(train[\"Age_group\"], train['Survived'])\n",
    "fig = plt.figure(figsize=(8,3))\n",
    "plt.title('Contigency table of Survived based on Age_group')\n",
    "sns.heatmap(contigency_pct, annot=True, cmap=\"YlGnBu\")\n",
    "fig.savefig('heatmap.jpg', dpi=300)\n",
    "plt.show()"
   ]
  },
  {
   "cell_type": "code",
   "execution_count": 20,
   "id": "f51b2713",
   "metadata": {},
   "outputs": [
    {
     "data": {
      "text/html": [
       "<div>\n",
       "<style scoped>\n",
       "    .dataframe tbody tr th:only-of-type {\n",
       "        vertical-align: middle;\n",
       "    }\n",
       "\n",
       "    .dataframe tbody tr th {\n",
       "        vertical-align: top;\n",
       "    }\n",
       "\n",
       "    .dataframe thead th {\n",
       "        text-align: right;\n",
       "    }\n",
       "</style>\n",
       "<table border=\"1\" class=\"dataframe\">\n",
       "  <thead>\n",
       "    <tr style=\"text-align: right;\">\n",
       "      <th>Survived</th>\n",
       "      <th>0</th>\n",
       "      <th>1</th>\n",
       "    </tr>\n",
       "    <tr>\n",
       "      <th>Age_group</th>\n",
       "      <th></th>\n",
       "      <th></th>\n",
       "    </tr>\n",
       "  </thead>\n",
       "  <tbody>\n",
       "    <tr>\n",
       "      <th>aged</th>\n",
       "      <td>19</td>\n",
       "      <td>7</td>\n",
       "    </tr>\n",
       "    <tr>\n",
       "      <th>child</th>\n",
       "      <td>29</td>\n",
       "      <td>40</td>\n",
       "    </tr>\n",
       "    <tr>\n",
       "      <th>middle aged</th>\n",
       "      <td>113</td>\n",
       "      <td>76</td>\n",
       "    </tr>\n",
       "    <tr>\n",
       "      <th>teen</th>\n",
       "      <td>56</td>\n",
       "      <td>39</td>\n",
       "    </tr>\n",
       "    <tr>\n",
       "      <th>youth</th>\n",
       "      <td>330</td>\n",
       "      <td>180</td>\n",
       "    </tr>\n",
       "  </tbody>\n",
       "</table>\n",
       "</div>"
      ],
      "text/plain": [
       "Survived       0    1\n",
       "Age_group            \n",
       "aged          19    7\n",
       "child         29   40\n",
       "middle aged  113   76\n",
       "teen          56   39\n",
       "youth        330  180"
      ]
     },
     "execution_count": 20,
     "metadata": {},
     "output_type": "execute_result"
    }
   ],
   "source": [
    "contigency_pct"
   ]
  },
  {
   "cell_type": "markdown",
   "id": "5eca3236",
   "metadata": {},
   "source": [
    "**observation**\n",
    "\n",
    "1. we can observe that out of the 26 Aged people on board, 73% died while 26% survived.\n",
    "2. out of 69 childern on board, 42% died while 57.9% survived\n",
    "3.  out of the 189 middle Aged on board, 58.7% died while 40.2 survived \n",
    "4. out of the 95 teens on board , 62% died while 41% survived\n",
    "5. out of the 510 youth on board, 64.70 % died while 35.29% survived\n"
   ]
  },
  {
   "cell_type": "markdown",
   "id": "954c3aa1",
   "metadata": {},
   "source": [
    "\n",
    "\n",
    "\n",
    "\n"
   ]
  },
  {
   "cell_type": "code",
   "execution_count": null,
   "id": "0c184e1c",
   "metadata": {},
   "outputs": [],
   "source": []
  },
  {
   "cell_type": "markdown",
   "id": "8a73c3c7",
   "metadata": {},
   "source": [
    "\n",
    "\n",
    "\n"
   ]
  },
  {
   "cell_type": "code",
   "execution_count": 21,
   "id": "eb150a2e",
   "metadata": {},
   "outputs": [
    {
     "data": {
      "text/html": [
       "<div>\n",
       "<style scoped>\n",
       "    .dataframe tbody tr th:only-of-type {\n",
       "        vertical-align: middle;\n",
       "    }\n",
       "\n",
       "    .dataframe tbody tr th {\n",
       "        vertical-align: top;\n",
       "    }\n",
       "\n",
       "    .dataframe thead th {\n",
       "        text-align: right;\n",
       "    }\n",
       "</style>\n",
       "<table border=\"1\" class=\"dataframe\">\n",
       "  <thead>\n",
       "    <tr style=\"text-align: right;\">\n",
       "      <th></th>\n",
       "      <th>PassengerId</th>\n",
       "      <th>Survived</th>\n",
       "      <th>Pclass</th>\n",
       "      <th>Age</th>\n",
       "      <th>SibSp</th>\n",
       "      <th>Parch</th>\n",
       "      <th>Fare</th>\n",
       "    </tr>\n",
       "  </thead>\n",
       "  <tbody>\n",
       "    <tr>\n",
       "      <th>count</th>\n",
       "      <td>891.000000</td>\n",
       "      <td>891.000000</td>\n",
       "      <td>891.000000</td>\n",
       "      <td>891.000000</td>\n",
       "      <td>891.000000</td>\n",
       "      <td>891.000000</td>\n",
       "      <td>891.000000</td>\n",
       "    </tr>\n",
       "    <tr>\n",
       "      <th>mean</th>\n",
       "      <td>446.000000</td>\n",
       "      <td>0.383838</td>\n",
       "      <td>2.308642</td>\n",
       "      <td>29.699118</td>\n",
       "      <td>0.523008</td>\n",
       "      <td>0.381594</td>\n",
       "      <td>32.204208</td>\n",
       "    </tr>\n",
       "    <tr>\n",
       "      <th>std</th>\n",
       "      <td>257.353842</td>\n",
       "      <td>0.486592</td>\n",
       "      <td>0.836071</td>\n",
       "      <td>13.002015</td>\n",
       "      <td>1.102743</td>\n",
       "      <td>0.806057</td>\n",
       "      <td>49.693429</td>\n",
       "    </tr>\n",
       "    <tr>\n",
       "      <th>min</th>\n",
       "      <td>1.000000</td>\n",
       "      <td>0.000000</td>\n",
       "      <td>1.000000</td>\n",
       "      <td>0.420000</td>\n",
       "      <td>0.000000</td>\n",
       "      <td>0.000000</td>\n",
       "      <td>0.000000</td>\n",
       "    </tr>\n",
       "    <tr>\n",
       "      <th>25%</th>\n",
       "      <td>223.500000</td>\n",
       "      <td>0.000000</td>\n",
       "      <td>2.000000</td>\n",
       "      <td>22.000000</td>\n",
       "      <td>0.000000</td>\n",
       "      <td>0.000000</td>\n",
       "      <td>7.910400</td>\n",
       "    </tr>\n",
       "    <tr>\n",
       "      <th>50%</th>\n",
       "      <td>446.000000</td>\n",
       "      <td>0.000000</td>\n",
       "      <td>3.000000</td>\n",
       "      <td>29.699118</td>\n",
       "      <td>0.000000</td>\n",
       "      <td>0.000000</td>\n",
       "      <td>14.454200</td>\n",
       "    </tr>\n",
       "    <tr>\n",
       "      <th>75%</th>\n",
       "      <td>668.500000</td>\n",
       "      <td>1.000000</td>\n",
       "      <td>3.000000</td>\n",
       "      <td>35.000000</td>\n",
       "      <td>1.000000</td>\n",
       "      <td>0.000000</td>\n",
       "      <td>31.000000</td>\n",
       "    </tr>\n",
       "    <tr>\n",
       "      <th>max</th>\n",
       "      <td>891.000000</td>\n",
       "      <td>1.000000</td>\n",
       "      <td>3.000000</td>\n",
       "      <td>80.000000</td>\n",
       "      <td>8.000000</td>\n",
       "      <td>6.000000</td>\n",
       "      <td>512.329200</td>\n",
       "    </tr>\n",
       "  </tbody>\n",
       "</table>\n",
       "</div>"
      ],
      "text/plain": [
       "       PassengerId    Survived      Pclass         Age       SibSp  \\\n",
       "count   891.000000  891.000000  891.000000  891.000000  891.000000   \n",
       "mean    446.000000    0.383838    2.308642   29.699118    0.523008   \n",
       "std     257.353842    0.486592    0.836071   13.002015    1.102743   \n",
       "min       1.000000    0.000000    1.000000    0.420000    0.000000   \n",
       "25%     223.500000    0.000000    2.000000   22.000000    0.000000   \n",
       "50%     446.000000    0.000000    3.000000   29.699118    0.000000   \n",
       "75%     668.500000    1.000000    3.000000   35.000000    1.000000   \n",
       "max     891.000000    1.000000    3.000000   80.000000    8.000000   \n",
       "\n",
       "            Parch        Fare  \n",
       "count  891.000000  891.000000  \n",
       "mean     0.381594   32.204208  \n",
       "std      0.806057   49.693429  \n",
       "min      0.000000    0.000000  \n",
       "25%      0.000000    7.910400  \n",
       "50%      0.000000   14.454200  \n",
       "75%      0.000000   31.000000  \n",
       "max      6.000000  512.329200  "
      ]
     },
     "execution_count": 21,
     "metadata": {},
     "output_type": "execute_result"
    }
   ],
   "source": [
    "train.describe()"
   ]
  },
  {
   "cell_type": "code",
   "execution_count": 22,
   "id": "66c04ea2",
   "metadata": {},
   "outputs": [
    {
     "data": {
      "text/plain": [
       "<AxesSubplot:xlabel='Sex', ylabel='Count'>"
      ]
     },
     "execution_count": 22,
     "metadata": {},
     "output_type": "execute_result"
    },
    {
     "data": {
      "image/png": "[encoded data removed]",
      "text/plain": [
       "<Figure size 432x288 with 1 Axes>"
      ]
     },
     "metadata": {
      "needs_background": "light"
     },
     "output_type": "display_data"
    }
   ],
   "source": [
    "sns.histplot(x=\"Sex\",data=train)"
   ]
  },
  {
   "cell_type": "markdown",
   "id": "3e74a697",
   "metadata": {},
   "source": [
    "**observation**\n",
    "\n",
    "1. we have more people of the male gender that boarded the ship "
   ]
  },
  {
   "cell_type": "code",
   "execution_count": 23,
   "id": "5961ede8",
   "metadata": {},
   "outputs": [
    {
     "data": {
      "image/png": "[encoded data removed]",
      "text/plain": [
       "<Figure size 576x216 with 2 Axes>"
      ]
     },
     "metadata": {
      "needs_background": "light"
     },
     "output_type": "display_data"
    }
   ],
   "source": [
    "contigency_pct = pd.crosstab(train['Survived'], train['Sex'])\n",
    "fig = plt.figure(figsize=(8,3))\n",
    "plt.title('Contigency table of Survived based on Sex')\n",
    "sns.heatmap(contigency_pct, annot=True, cmap=\"YlGnBu\")\n",
    "fig.savefig('heatmap.jpg', dpi=300)\n",
    "plt.show()"
   ]
  },
  {
   "cell_type": "markdown",
   "id": "dd0db9e9",
   "metadata": {},
   "source": [
    "**observation**\n",
    "\n",
    "1. from this we can observed that 81 females died while 230 over females survived.\n",
    "2. over 470 males died and while more than 110 males survived . "
   ]
  },
  {
   "cell_type": "code",
   "execution_count": 24,
   "id": "b6e3a1e7",
   "metadata": {},
   "outputs": [
    {
     "data": {
      "text/html": [
       "<div>\n",
       "<style scoped>\n",
       "    .dataframe tbody tr th:only-of-type {\n",
       "        vertical-align: middle;\n",
       "    }\n",
       "\n",
       "    .dataframe tbody tr th {\n",
       "        vertical-align: top;\n",
       "    }\n",
       "\n",
       "    .dataframe thead th {\n",
       "        text-align: right;\n",
       "    }\n",
       "</style>\n",
       "<table border=\"1\" class=\"dataframe\">\n",
       "  <thead>\n",
       "    <tr style=\"text-align: right;\">\n",
       "      <th>Sex</th>\n",
       "      <th>female</th>\n",
       "      <th>male</th>\n",
       "    </tr>\n",
       "    <tr>\n",
       "      <th>Survived</th>\n",
       "      <th></th>\n",
       "      <th></th>\n",
       "    </tr>\n",
       "  </thead>\n",
       "  <tbody>\n",
       "    <tr>\n",
       "      <th>0</th>\n",
       "      <td>81</td>\n",
       "      <td>468</td>\n",
       "    </tr>\n",
       "    <tr>\n",
       "      <th>1</th>\n",
       "      <td>233</td>\n",
       "      <td>109</td>\n",
       "    </tr>\n",
       "  </tbody>\n",
       "</table>\n",
       "</div>"
      ],
      "text/plain": [
       "Sex       female  male\n",
       "Survived              \n",
       "0             81   468\n",
       "1            233   109"
      ]
     },
     "execution_count": 24,
     "metadata": {},
     "output_type": "execute_result"
    }
   ],
   "source": [
    "\n",
    "contigency_pct"
   ]
  },
  {
   "cell_type": "markdown",
   "id": "6136ba28",
   "metadata": {},
   "source": [
    "**observation**\n",
    "\n",
    "1. out of the 314 females on the ship, 25.7% died while 74% survived.\n",
    "2. out of the 578 males on the ship, 81% died while 18.8% survived"
   ]
  },
  {
   "cell_type": "code",
   "execution_count": 25,
   "id": "cae15874",
   "metadata": {},
   "outputs": [
    {
     "data": {
      "text/plain": [
       "<AxesSubplot:xlabel='Sex', ylabel='Age'>"
      ]
     },
     "execution_count": 25,
     "metadata": {},
     "output_type": "execute_result"
    },
    {
     "data": {
      "image/png": "[encoded data removed]",
      "text/plain": [
       "<Figure size 432x288 with 1 Axes>"
      ]
     },
     "metadata": {
      "needs_background": "light"
     },
     "output_type": "display_data"
    }
   ],
   "source": [
    "sns.boxplot(x=\"Sex\",y=\"Age\", data=train, hue='Survived')"
   ]
  },
  {
   "cell_type": "markdown",
   "id": "4a11c25b",
   "metadata": {},
   "source": [
    "**observation**\n",
    "1. from this we can deduce that age is not really a sinificant factor to determine the survival rate of females and males \n",
    "2. due to the presence of outliers, if males below the age of 8 dieds ther said to be an abnormality\n",
    "3. if females below the age of 5 survives there is said to be an abnormality\n"
   ]
  },
  {
   "cell_type": "code",
   "execution_count": 26,
   "id": "ee2bbe52",
   "metadata": {},
   "outputs": [
    {
     "data": {
      "text/plain": [
       "3    491\n",
       "1    216\n",
       "2    184\n",
       "Name: Pclass, dtype: int64"
      ]
     },
     "execution_count": 26,
     "metadata": {},
     "output_type": "execute_result"
    }
   ],
   "source": [
    "train.Pclass.value_counts()"
   ]
  },
  {
   "cell_type": "code",
   "execution_count": null,
   "id": "ba325600",
   "metadata": {},
   "outputs": [],
   "source": []
  },
  {
   "cell_type": "markdown",
   "id": "04bbceba",
   "metadata": {},
   "source": [
    "**observation**\n",
    "\n",
    "1. they are 491 people in the 3 class \n",
    "2. they are  184 peope in the 2 class\n",
    "3. they are 216 people in the 1 class"
   ]
  },
  {
   "cell_type": "code",
   "execution_count": 27,
   "id": "c3acb1da",
   "metadata": {},
   "outputs": [
    {
     "data": {
      "image/png": "[encoded data removed]",
      "text/plain": [
       "<Figure size 576x216 with 2 Axes>"
      ]
     },
     "metadata": {
      "needs_background": "light"
     },
     "output_type": "display_data"
    }
   ],
   "source": [
    "contigency_pct = pd.crosstab(train[\"Pclass\"], train['Survived'])\n",
    "fig = plt.figure(figsize=(8,3))\n",
    "plt.title('Contigency table of Survived based on Pclass')\n",
    "sns.heatmap(contigency_pct, annot=True, cmap=\"YlGnBu\")\n",
    "fig.savefig('heatmap.jpg', dpi=300)\n",
    "plt.show()"
   ]
  },
  {
   "cell_type": "code",
   "execution_count": 28,
   "id": "d9a772b5",
   "metadata": {},
   "outputs": [
    {
     "data": {
      "text/html": [
       "<div>\n",
       "<style scoped>\n",
       "    .dataframe tbody tr th:only-of-type {\n",
       "        vertical-align: middle;\n",
       "    }\n",
       "\n",
       "    .dataframe tbody tr th {\n",
       "        vertical-align: top;\n",
       "    }\n",
       "\n",
       "    .dataframe thead th {\n",
       "        text-align: right;\n",
       "    }\n",
       "</style>\n",
       "<table border=\"1\" class=\"dataframe\">\n",
       "  <thead>\n",
       "    <tr style=\"text-align: right;\">\n",
       "      <th>Survived</th>\n",
       "      <th>0</th>\n",
       "      <th>1</th>\n",
       "    </tr>\n",
       "    <tr>\n",
       "      <th>Pclass</th>\n",
       "      <th></th>\n",
       "      <th></th>\n",
       "    </tr>\n",
       "  </thead>\n",
       "  <tbody>\n",
       "    <tr>\n",
       "      <th>1</th>\n",
       "      <td>80</td>\n",
       "      <td>136</td>\n",
       "    </tr>\n",
       "    <tr>\n",
       "      <th>2</th>\n",
       "      <td>97</td>\n",
       "      <td>87</td>\n",
       "    </tr>\n",
       "    <tr>\n",
       "      <th>3</th>\n",
       "      <td>372</td>\n",
       "      <td>119</td>\n",
       "    </tr>\n",
       "  </tbody>\n",
       "</table>\n",
       "</div>"
      ],
      "text/plain": [
       "Survived    0    1\n",
       "Pclass            \n",
       "1          80  136\n",
       "2          97   87\n",
       "3         372  119"
      ]
     },
     "execution_count": 28,
     "metadata": {},
     "output_type": "execute_result"
    }
   ],
   "source": [
    "contigency_pct"
   ]
  },
  {
   "cell_type": "markdown",
   "id": "686d7717",
   "metadata": {},
   "source": [
    "**observation**\n",
    "1. 80 people died while 136 people survived in pclass 1\n",
    "2. 97 people died while 87 people survived in pclass 2\n",
    "3. 372 people died while 119 people survived in Pclass 3\n"
   ]
  },
  {
   "cell_type": "code",
   "execution_count": 29,
   "id": "49568cb4",
   "metadata": {},
   "outputs": [],
   "source": [
    "# Those that are in Pclass level 1\n",
    "mask = train['Pclass'] == 1\n",
    "level1 = train[mask]\n",
    "\n",
    "# Those that are in Pclass level 2\n",
    "mask = train['Pclass'] == 2\n",
    "level2 = train[mask]\n",
    "\n",
    "# Those that are in pclass level 3\n",
    "mask = train['Pclass'] == 3\n",
    "level3 = train[mask]\n",
    "\n"
   ]
  },
  {
   "cell_type": "code",
   "execution_count": 30,
   "id": "d6190945",
   "metadata": {},
   "outputs": [],
   "source": [
    "level1_df = pd.DataFrame()\n",
    "level1_df['Survived'] = ['no-Survived', 'Survived']\n",
    "level1_df['count %'] = np.array(level1.Survived.value_counts(normalize=True) * 100)\n",
    "\n",
    "level2_df = pd.DataFrame()\n",
    "level2_df['Survived'] = ['no-Survived', 'Survived']\n",
    "level2_df['count %'] = np.array(level2.Survived.value_counts(normalize=True) * 100)\n",
    "\n",
    "level3_df = pd.DataFrame()\n",
    "level3_df['Survived'] = ['no-Survived', 'Survived']\n",
    "level3_df['count %'] = np.array(level3.Survived.value_counts(normalize=True) * 100)\n",
    "\n",
    "\n"
   ]
  },
  {
   "cell_type": "code",
   "execution_count": 31,
   "id": "9ae6fa76",
   "metadata": {},
   "outputs": [
    {
     "data": {
      "image/png": "[encoded data removed]",
      "text/plain": [
       "<Figure size 576x432 with 1 Axes>"
      ]
     },
     "metadata": {
      "needs_background": "light"
     },
     "output_type": "display_data"
    }
   ],
   "source": [
    "fig, ax = plt.subplots(1, 1, figsize=(8, 6))\n",
    "sns.barplot(x='Survived', y='count %', data=level1_df, palette='Set1')\n",
    "no_Survived = round(level1_df.iloc[0,1] + .5, 2)\n",
    "plt.text(0, no_Survived, f'{no_Survived}%')\n",
    "Survived = round(level1_df.iloc[1,1] + .5, 2)\n",
    "plt.text(1, Survived, f'{Survived}%')\n",
    "plt.title('Pclass Level 1 Percentage Count')\n",
    "fig.savefig(fname='level1.jpg', dpi=300, transparent=False)\n",
    "plt.show()"
   ]
  },
  {
   "cell_type": "code",
   "execution_count": null,
   "id": "15da1bfb",
   "metadata": {},
   "outputs": [],
   "source": []
  },
  {
   "cell_type": "code",
   "execution_count": 32,
   "id": "a3c46a0e",
   "metadata": {},
   "outputs": [
    {
     "data": {
      "image/png": "[encoded data removed]",
      "text/plain": [
       "<Figure size 576x432 with 1 Axes>"
      ]
     },
     "metadata": {
      "needs_background": "light"
     },
     "output_type": "display_data"
    }
   ],
   "source": [
    "fig, ax = plt.subplots(1, 1, figsize=(8, 6))\n",
    "sns.barplot(x='Survived', y='count %', data=level2_df, palette='Set1')\n",
    "no_Survived = round(level2_df.iloc[0,1] + .5, 2)\n",
    "plt.text(0, no_Survived, f'{no_Survived}%')\n",
    "Survived = round(level2_df.iloc[1,1] + .5, 2)\n",
    "plt.text(1, Survived, f'{Survived}%')\n",
    "plt.title('Pclass Level 2 Percentage Count')\n",
    "fig.savefig(fname='level2.jpg', dpi=300, transparent=False)\n",
    "plt.show()"
   ]
  },
  {
   "cell_type": "code",
   "execution_count": null,
   "id": "98ec179a",
   "metadata": {},
   "outputs": [],
   "source": []
  },
  {
   "cell_type": "code",
   "execution_count": null,
   "id": "cae7d1b2",
   "metadata": {},
   "outputs": [],
   "source": []
  },
  {
   "cell_type": "code",
   "execution_count": 33,
   "id": "38b0770d",
   "metadata": {},
   "outputs": [
    {
     "data": {
      "image/png": "[encoded data removed]",
      "text/plain": [
       "<Figure size 576x432 with 1 Axes>"
      ]
     },
     "metadata": {
      "needs_background": "light"
     },
     "output_type": "display_data"
    }
   ],
   "source": [
    "fig, ax = plt.subplots(1, 1, figsize=(8, 6))\n",
    "sns.barplot(x='Survived', y='count %', data=level3_df, palette='Set1')\n",
    "no_Survived = round(level3_df.iloc[0,1] + .5, 2)\n",
    "plt.text(0, no_Survived, f'{no_Survived}%')\n",
    "default = round(level3_df.iloc[1,1] + .5, 2)\n",
    "plt.text(1, Survived, f'{Survived}%')\n",
    "plt.title('Pclass Level 3 Percentage Count')\n",
    "fig.savefig(fname='level3.jpg', dpi=300, transparent=False)\n",
    "plt.show()"
   ]
  },
  {
   "cell_type": "code",
   "execution_count": 34,
   "id": "f16fa5e8",
   "metadata": {},
   "outputs": [
    {
     "data": {
      "image/png": "[encoded data removed]",
      "text/plain": [
       "<Figure size 576x216 with 2 Axes>"
      ]
     },
     "metadata": {
      "needs_background": "light"
     },
     "output_type": "display_data"
    }
   ],
   "source": [
    "contigency_pct = pd.crosstab(train[\"Embarked\"], train['Survived'])\n",
    "fig = plt.figure(figsize=(8,3))\n",
    "plt.title('Contigency table of Survived based on Embarked')\n",
    "sns.heatmap(contigency_pct, annot=True, cmap=\"YlGnBu\")\n",
    "fig.savefig('heatmap.jpg', dpi=300)\n",
    "plt.show()"
   ]
  },
  {
   "cell_type": "code",
   "execution_count": 35,
   "id": "b0a60917",
   "metadata": {},
   "outputs": [
    {
     "data": {
      "text/html": [
       "<div>\n",
       "<style scoped>\n",
       "    .dataframe tbody tr th:only-of-type {\n",
       "        vertical-align: middle;\n",
       "    }\n",
       "\n",
       "    .dataframe tbody tr th {\n",
       "        vertical-align: top;\n",
       "    }\n",
       "\n",
       "    .dataframe thead th {\n",
       "        text-align: right;\n",
       "    }\n",
       "</style>\n",
       "<table border=\"1\" class=\"dataframe\">\n",
       "  <thead>\n",
       "    <tr style=\"text-align: right;\">\n",
       "      <th>Survived</th>\n",
       "      <th>0</th>\n",
       "      <th>1</th>\n",
       "    </tr>\n",
       "    <tr>\n",
       "      <th>Embarked</th>\n",
       "      <th></th>\n",
       "      <th></th>\n",
       "    </tr>\n",
       "  </thead>\n",
       "  <tbody>\n",
       "    <tr>\n",
       "      <th>C</th>\n",
       "      <td>75</td>\n",
       "      <td>93</td>\n",
       "    </tr>\n",
       "    <tr>\n",
       "      <th>Q</th>\n",
       "      <td>47</td>\n",
       "      <td>30</td>\n",
       "    </tr>\n",
       "    <tr>\n",
       "      <th>S</th>\n",
       "      <td>427</td>\n",
       "      <td>217</td>\n",
       "    </tr>\n",
       "  </tbody>\n",
       "</table>\n",
       "</div>"
      ],
      "text/plain": [
       "Survived    0    1\n",
       "Embarked          \n",
       "C          75   93\n",
       "Q          47   30\n",
       "S         427  217"
      ]
     },
     "execution_count": 35,
     "metadata": {},
     "output_type": "execute_result"
    }
   ],
   "source": [
    "contigency_pct"
   ]
  },
  {
   "cell_type": "markdown",
   "id": "e4a1941a",
   "metadata": {},
   "source": [
    "**observation**\n",
    "\n",
    "1. out of 168 embarking from  C 44.64% died, while 55.3% survived.\n",
    "2. out of 77 embarking from Q 61% died, while 38.9% survived.\n",
    "3. out of 644 embarking from S 66.3% died, while 33.6% survived"
   ]
  },
  {
   "cell_type": "code",
   "execution_count": 36,
   "id": "2d185dde",
   "metadata": {},
   "outputs": [
    {
     "data": {
      "text/plain": [
       "<AxesSubplot:xlabel='Pclass', ylabel='Fare'>"
      ]
     },
     "execution_count": 36,
     "metadata": {},
     "output_type": "execute_result"
    },
    {
     "data": {
      "image/png": "[encoded data removed]",
      "text/plain": [
       "<Figure size 432x288 with 1 Axes>"
      ]
     },
     "metadata": {
      "needs_background": "light"
     },
     "output_type": "display_data"
    }
   ],
   "source": [
    "sns.boxplot(x=\"Pclass\",y=\"Fare\", data=train)"
   ]
  },
  {
   "cell_type": "code",
   "execution_count": 37,
   "id": "13d0fdac",
   "metadata": {},
   "outputs": [
    {
     "data": {
      "text/html": [
       "<div>\n",
       "<style scoped>\n",
       "    .dataframe tbody tr th:only-of-type {\n",
       "        vertical-align: middle;\n",
       "    }\n",
       "\n",
       "    .dataframe tbody tr th {\n",
       "        vertical-align: top;\n",
       "    }\n",
       "\n",
       "    .dataframe thead th {\n",
       "        text-align: right;\n",
       "    }\n",
       "</style>\n",
       "<table border=\"1\" class=\"dataframe\">\n",
       "  <thead>\n",
       "    <tr style=\"text-align: right;\">\n",
       "      <th></th>\n",
       "      <th>PassengerId</th>\n",
       "      <th>Survived</th>\n",
       "      <th>Pclass</th>\n",
       "      <th>Name</th>\n",
       "      <th>Sex</th>\n",
       "      <th>Age</th>\n",
       "      <th>SibSp</th>\n",
       "      <th>Parch</th>\n",
       "      <th>Ticket</th>\n",
       "      <th>Fare</th>\n",
       "      <th>Cabin</th>\n",
       "      <th>Embarked</th>\n",
       "      <th>Age_group</th>\n",
       "    </tr>\n",
       "  </thead>\n",
       "  <tbody>\n",
       "    <tr>\n",
       "      <th>258</th>\n",
       "      <td>259</td>\n",
       "      <td>1</td>\n",
       "      <td>1</td>\n",
       "      <td>Ward, Miss. Anna</td>\n",
       "      <td>female</td>\n",
       "      <td>35.0</td>\n",
       "      <td>0</td>\n",
       "      <td>0</td>\n",
       "      <td>PC 17755</td>\n",
       "      <td>512.3292</td>\n",
       "      <td>NaN</td>\n",
       "      <td>C</td>\n",
       "      <td>youth</td>\n",
       "    </tr>\n",
       "    <tr>\n",
       "      <th>679</th>\n",
       "      <td>680</td>\n",
       "      <td>1</td>\n",
       "      <td>1</td>\n",
       "      <td>Cardeza, Mr. Thomas Drake Martinez</td>\n",
       "      <td>male</td>\n",
       "      <td>36.0</td>\n",
       "      <td>0</td>\n",
       "      <td>1</td>\n",
       "      <td>PC 17755</td>\n",
       "      <td>512.3292</td>\n",
       "      <td>B51 B53 B55</td>\n",
       "      <td>C</td>\n",
       "      <td>middle aged</td>\n",
       "    </tr>\n",
       "    <tr>\n",
       "      <th>737</th>\n",
       "      <td>738</td>\n",
       "      <td>1</td>\n",
       "      <td>1</td>\n",
       "      <td>Lesurer, Mr. Gustave J</td>\n",
       "      <td>male</td>\n",
       "      <td>35.0</td>\n",
       "      <td>0</td>\n",
       "      <td>0</td>\n",
       "      <td>PC 17755</td>\n",
       "      <td>512.3292</td>\n",
       "      <td>B101</td>\n",
       "      <td>C</td>\n",
       "      <td>youth</td>\n",
       "    </tr>\n",
       "  </tbody>\n",
       "</table>\n",
       "</div>"
      ],
      "text/plain": [
       "     PassengerId  Survived  Pclass                                Name  \\\n",
       "258          259         1       1                    Ward, Miss. Anna   \n",
       "679          680         1       1  Cardeza, Mr. Thomas Drake Martinez   \n",
       "737          738         1       1              Lesurer, Mr. Gustave J   \n",
       "\n",
       "        Sex   Age  SibSp  Parch    Ticket      Fare        Cabin Embarked  \\\n",
       "258  female  35.0      0      0  PC 17755  512.3292          NaN        C   \n",
       "679    male  36.0      0      1  PC 17755  512.3292  B51 B53 B55        C   \n",
       "737    male  35.0      0      0  PC 17755  512.3292         B101        C   \n",
       "\n",
       "       Age_group  \n",
       "258        youth  \n",
       "679  middle aged  \n",
       "737        youth  "
      ]
     },
     "execution_count": 37,
     "metadata": {},
     "output_type": "execute_result"
    }
   ],
   "source": [
    "train[train[\"Fare\"]>=500]"
   ]
  },
  {
   "cell_type": "code",
   "execution_count": 38,
   "id": "54770894",
   "metadata": {},
   "outputs": [
    {
     "data": {
      "text/html": [
       "<div>\n",
       "<style scoped>\n",
       "    .dataframe tbody tr th:only-of-type {\n",
       "        vertical-align: middle;\n",
       "    }\n",
       "\n",
       "    .dataframe tbody tr th {\n",
       "        vertical-align: top;\n",
       "    }\n",
       "\n",
       "    .dataframe thead th {\n",
       "        text-align: right;\n",
       "    }\n",
       "</style>\n",
       "<table border=\"1\" class=\"dataframe\">\n",
       "  <thead>\n",
       "    <tr style=\"text-align: right;\">\n",
       "      <th></th>\n",
       "      <th>PassengerId</th>\n",
       "      <th>Survived</th>\n",
       "      <th>Pclass</th>\n",
       "      <th>Name</th>\n",
       "      <th>Sex</th>\n",
       "      <th>Age</th>\n",
       "      <th>SibSp</th>\n",
       "      <th>Parch</th>\n",
       "      <th>Ticket</th>\n",
       "      <th>Fare</th>\n",
       "      <th>Cabin</th>\n",
       "      <th>Embarked</th>\n",
       "      <th>Age_group</th>\n",
       "    </tr>\n",
       "  </thead>\n",
       "  <tbody>\n",
       "    <tr>\n",
       "      <th>179</th>\n",
       "      <td>180</td>\n",
       "      <td>0</td>\n",
       "      <td>3</td>\n",
       "      <td>Leonard, Mr. Lionel</td>\n",
       "      <td>male</td>\n",
       "      <td>36.000000</td>\n",
       "      <td>0</td>\n",
       "      <td>0</td>\n",
       "      <td>LINE</td>\n",
       "      <td>0.0</td>\n",
       "      <td>NaN</td>\n",
       "      <td>S</td>\n",
       "      <td>middle aged</td>\n",
       "    </tr>\n",
       "    <tr>\n",
       "      <th>263</th>\n",
       "      <td>264</td>\n",
       "      <td>0</td>\n",
       "      <td>1</td>\n",
       "      <td>Harrison, Mr. William</td>\n",
       "      <td>male</td>\n",
       "      <td>40.000000</td>\n",
       "      <td>0</td>\n",
       "      <td>0</td>\n",
       "      <td>112059</td>\n",
       "      <td>0.0</td>\n",
       "      <td>B94</td>\n",
       "      <td>S</td>\n",
       "      <td>middle aged</td>\n",
       "    </tr>\n",
       "    <tr>\n",
       "      <th>271</th>\n",
       "      <td>272</td>\n",
       "      <td>1</td>\n",
       "      <td>3</td>\n",
       "      <td>Tornquist, Mr. William Henry</td>\n",
       "      <td>male</td>\n",
       "      <td>25.000000</td>\n",
       "      <td>0</td>\n",
       "      <td>0</td>\n",
       "      <td>LINE</td>\n",
       "      <td>0.0</td>\n",
       "      <td>NaN</td>\n",
       "      <td>S</td>\n",
       "      <td>youth</td>\n",
       "    </tr>\n",
       "    <tr>\n",
       "      <th>277</th>\n",
       "      <td>278</td>\n",
       "      <td>0</td>\n",
       "      <td>2</td>\n",
       "      <td>Parkes, Mr. Francis \"Frank\"</td>\n",
       "      <td>male</td>\n",
       "      <td>29.699118</td>\n",
       "      <td>0</td>\n",
       "      <td>0</td>\n",
       "      <td>239853</td>\n",
       "      <td>0.0</td>\n",
       "      <td>NaN</td>\n",
       "      <td>S</td>\n",
       "      <td>youth</td>\n",
       "    </tr>\n",
       "    <tr>\n",
       "      <th>302</th>\n",
       "      <td>303</td>\n",
       "      <td>0</td>\n",
       "      <td>3</td>\n",
       "      <td>Johnson, Mr. William Cahoone Jr</td>\n",
       "      <td>male</td>\n",
       "      <td>19.000000</td>\n",
       "      <td>0</td>\n",
       "      <td>0</td>\n",
       "      <td>LINE</td>\n",
       "      <td>0.0</td>\n",
       "      <td>NaN</td>\n",
       "      <td>S</td>\n",
       "      <td>teen</td>\n",
       "    </tr>\n",
       "    <tr>\n",
       "      <th>413</th>\n",
       "      <td>414</td>\n",
       "      <td>0</td>\n",
       "      <td>2</td>\n",
       "      <td>Cunningham, Mr. Alfred Fleming</td>\n",
       "      <td>male</td>\n",
       "      <td>29.699118</td>\n",
       "      <td>0</td>\n",
       "      <td>0</td>\n",
       "      <td>239853</td>\n",
       "      <td>0.0</td>\n",
       "      <td>NaN</td>\n",
       "      <td>S</td>\n",
       "      <td>youth</td>\n",
       "    </tr>\n",
       "    <tr>\n",
       "      <th>466</th>\n",
       "      <td>467</td>\n",
       "      <td>0</td>\n",
       "      <td>2</td>\n",
       "      <td>Campbell, Mr. William</td>\n",
       "      <td>male</td>\n",
       "      <td>29.699118</td>\n",
       "      <td>0</td>\n",
       "      <td>0</td>\n",
       "      <td>239853</td>\n",
       "      <td>0.0</td>\n",
       "      <td>NaN</td>\n",
       "      <td>S</td>\n",
       "      <td>youth</td>\n",
       "    </tr>\n",
       "    <tr>\n",
       "      <th>481</th>\n",
       "      <td>482</td>\n",
       "      <td>0</td>\n",
       "      <td>2</td>\n",
       "      <td>Frost, Mr. Anthony Wood \"Archie\"</td>\n",
       "      <td>male</td>\n",
       "      <td>29.699118</td>\n",
       "      <td>0</td>\n",
       "      <td>0</td>\n",
       "      <td>239854</td>\n",
       "      <td>0.0</td>\n",
       "      <td>NaN</td>\n",
       "      <td>S</td>\n",
       "      <td>youth</td>\n",
       "    </tr>\n",
       "    <tr>\n",
       "      <th>597</th>\n",
       "      <td>598</td>\n",
       "      <td>0</td>\n",
       "      <td>3</td>\n",
       "      <td>Johnson, Mr. Alfred</td>\n",
       "      <td>male</td>\n",
       "      <td>49.000000</td>\n",
       "      <td>0</td>\n",
       "      <td>0</td>\n",
       "      <td>LINE</td>\n",
       "      <td>0.0</td>\n",
       "      <td>NaN</td>\n",
       "      <td>S</td>\n",
       "      <td>middle aged</td>\n",
       "    </tr>\n",
       "    <tr>\n",
       "      <th>633</th>\n",
       "      <td>634</td>\n",
       "      <td>0</td>\n",
       "      <td>1</td>\n",
       "      <td>Parr, Mr. William Henry Marsh</td>\n",
       "      <td>male</td>\n",
       "      <td>29.699118</td>\n",
       "      <td>0</td>\n",
       "      <td>0</td>\n",
       "      <td>112052</td>\n",
       "      <td>0.0</td>\n",
       "      <td>NaN</td>\n",
       "      <td>S</td>\n",
       "      <td>youth</td>\n",
       "    </tr>\n",
       "    <tr>\n",
       "      <th>674</th>\n",
       "      <td>675</td>\n",
       "      <td>0</td>\n",
       "      <td>2</td>\n",
       "      <td>Watson, Mr. Ennis Hastings</td>\n",
       "      <td>male</td>\n",
       "      <td>29.699118</td>\n",
       "      <td>0</td>\n",
       "      <td>0</td>\n",
       "      <td>239856</td>\n",
       "      <td>0.0</td>\n",
       "      <td>NaN</td>\n",
       "      <td>S</td>\n",
       "      <td>youth</td>\n",
       "    </tr>\n",
       "    <tr>\n",
       "      <th>732</th>\n",
       "      <td>733</td>\n",
       "      <td>0</td>\n",
       "      <td>2</td>\n",
       "      <td>Knight, Mr. Robert J</td>\n",
       "      <td>male</td>\n",
       "      <td>29.699118</td>\n",
       "      <td>0</td>\n",
       "      <td>0</td>\n",
       "      <td>239855</td>\n",
       "      <td>0.0</td>\n",
       "      <td>NaN</td>\n",
       "      <td>S</td>\n",
       "      <td>youth</td>\n",
       "    </tr>\n",
       "    <tr>\n",
       "      <th>806</th>\n",
       "      <td>807</td>\n",
       "      <td>0</td>\n",
       "      <td>1</td>\n",
       "      <td>Andrews, Mr. Thomas Jr</td>\n",
       "      <td>male</td>\n",
       "      <td>39.000000</td>\n",
       "      <td>0</td>\n",
       "      <td>0</td>\n",
       "      <td>112050</td>\n",
       "      <td>0.0</td>\n",
       "      <td>A36</td>\n",
       "      <td>S</td>\n",
       "      <td>middle aged</td>\n",
       "    </tr>\n",
       "    <tr>\n",
       "      <th>815</th>\n",
       "      <td>816</td>\n",
       "      <td>0</td>\n",
       "      <td>1</td>\n",
       "      <td>Fry, Mr. Richard</td>\n",
       "      <td>male</td>\n",
       "      <td>29.699118</td>\n",
       "      <td>0</td>\n",
       "      <td>0</td>\n",
       "      <td>112058</td>\n",
       "      <td>0.0</td>\n",
       "      <td>B102</td>\n",
       "      <td>S</td>\n",
       "      <td>youth</td>\n",
       "    </tr>\n",
       "    <tr>\n",
       "      <th>822</th>\n",
       "      <td>823</td>\n",
       "      <td>0</td>\n",
       "      <td>1</td>\n",
       "      <td>Reuchlin, Jonkheer. John George</td>\n",
       "      <td>male</td>\n",
       "      <td>38.000000</td>\n",
       "      <td>0</td>\n",
       "      <td>0</td>\n",
       "      <td>19972</td>\n",
       "      <td>0.0</td>\n",
       "      <td>NaN</td>\n",
       "      <td>S</td>\n",
       "      <td>middle aged</td>\n",
       "    </tr>\n",
       "  </tbody>\n",
       "</table>\n",
       "</div>"
      ],
      "text/plain": [
       "     PassengerId  Survived  Pclass                              Name   Sex  \\\n",
       "179          180         0       3               Leonard, Mr. Lionel  male   \n",
       "263          264         0       1             Harrison, Mr. William  male   \n",
       "271          272         1       3      Tornquist, Mr. William Henry  male   \n",
       "277          278         0       2       Parkes, Mr. Francis \"Frank\"  male   \n",
       "302          303         0       3   Johnson, Mr. William Cahoone Jr  male   \n",
       "413          414         0       2    Cunningham, Mr. Alfred Fleming  male   \n",
       "466          467         0       2             Campbell, Mr. William  male   \n",
       "481          482         0       2  Frost, Mr. Anthony Wood \"Archie\"  male   \n",
       "597          598         0       3               Johnson, Mr. Alfred  male   \n",
       "633          634         0       1     Parr, Mr. William Henry Marsh  male   \n",
       "674          675         0       2        Watson, Mr. Ennis Hastings  male   \n",
       "732          733         0       2              Knight, Mr. Robert J  male   \n",
       "806          807         0       1            Andrews, Mr. Thomas Jr  male   \n",
       "815          816         0       1                  Fry, Mr. Richard  male   \n",
       "822          823         0       1   Reuchlin, Jonkheer. John George  male   \n",
       "\n",
       "           Age  SibSp  Parch  Ticket  Fare Cabin Embarked    Age_group  \n",
       "179  36.000000      0      0    LINE   0.0   NaN        S  middle aged  \n",
       "263  40.000000      0      0  112059   0.0   B94        S  middle aged  \n",
       "271  25.000000      0      0    LINE   0.0   NaN        S        youth  \n",
       "277  29.699118      0      0  239853   0.0   NaN        S        youth  \n",
       "302  19.000000      0      0    LINE   0.0   NaN        S         teen  \n",
       "413  29.699118      0      0  239853   0.0   NaN        S        youth  \n",
       "466  29.699118      0      0  239853   0.0   NaN        S        youth  \n",
       "481  29.699118      0      0  239854   0.0   NaN        S        youth  \n",
       "597  49.000000      0      0    LINE   0.0   NaN        S  middle aged  \n",
       "633  29.699118      0      0  112052   0.0   NaN        S        youth  \n",
       "674  29.699118      0      0  239856   0.0   NaN        S        youth  \n",
       "732  29.699118      0      0  239855   0.0   NaN        S        youth  \n",
       "806  39.000000      0      0  112050   0.0   A36        S  middle aged  \n",
       "815  29.699118      0      0  112058   0.0  B102        S        youth  \n",
       "822  38.000000      0      0   19972   0.0   NaN        S  middle aged  "
      ]
     },
     "execution_count": 38,
     "metadata": {},
     "output_type": "execute_result"
    }
   ],
   "source": [
    "train[train[\"Fare\"]==0]"
   ]
  },
  {
   "cell_type": "code",
   "execution_count": 39,
   "id": "0e2e74e2",
   "metadata": {},
   "outputs": [],
   "source": [
    "Age_group_Encoder=LabelEncoder()\n",
    "train[\"Age_group\"]=Age_group_Encoder.fit_transform(train[\"Age_group\"])"
   ]
  },
  {
   "cell_type": "code",
   "execution_count": 40,
   "id": "0c8895d8",
   "metadata": {},
   "outputs": [
    {
     "data": {
      "text/html": [
       "<div>\n",
       "<style scoped>\n",
       "    .dataframe tbody tr th:only-of-type {\n",
       "        vertical-align: middle;\n",
       "    }\n",
       "\n",
       "    .dataframe tbody tr th {\n",
       "        vertical-align: top;\n",
       "    }\n",
       "\n",
       "    .dataframe thead th {\n",
       "        text-align: right;\n",
       "    }\n",
       "</style>\n",
       "<table border=\"1\" class=\"dataframe\">\n",
       "  <thead>\n",
       "    <tr style=\"text-align: right;\">\n",
       "      <th></th>\n",
       "      <th>PassengerId</th>\n",
       "      <th>Survived</th>\n",
       "      <th>Pclass</th>\n",
       "      <th>Name</th>\n",
       "      <th>Sex</th>\n",
       "      <th>Age</th>\n",
       "      <th>SibSp</th>\n",
       "      <th>Parch</th>\n",
       "      <th>Ticket</th>\n",
       "      <th>Fare</th>\n",
       "      <th>Cabin</th>\n",
       "      <th>Embarked</th>\n",
       "      <th>Age_group</th>\n",
       "    </tr>\n",
       "  </thead>\n",
       "  <tbody>\n",
       "    <tr>\n",
       "      <th>0</th>\n",
       "      <td>1</td>\n",
       "      <td>0</td>\n",
       "      <td>3</td>\n",
       "      <td>Braund, Mr. Owen Harris</td>\n",
       "      <td>male</td>\n",
       "      <td>22.0</td>\n",
       "      <td>1</td>\n",
       "      <td>0</td>\n",
       "      <td>A/5 21171</td>\n",
       "      <td>7.2500</td>\n",
       "      <td>NaN</td>\n",
       "      <td>S</td>\n",
       "      <td>4</td>\n",
       "    </tr>\n",
       "    <tr>\n",
       "      <th>1</th>\n",
       "      <td>2</td>\n",
       "      <td>1</td>\n",
       "      <td>1</td>\n",
       "      <td>Cumings, Mrs. John Bradley (Florence Briggs Th...</td>\n",
       "      <td>female</td>\n",
       "      <td>38.0</td>\n",
       "      <td>1</td>\n",
       "      <td>0</td>\n",
       "      <td>PC 17599</td>\n",
       "      <td>71.2833</td>\n",
       "      <td>C85</td>\n",
       "      <td>C</td>\n",
       "      <td>2</td>\n",
       "    </tr>\n",
       "    <tr>\n",
       "      <th>2</th>\n",
       "      <td>3</td>\n",
       "      <td>1</td>\n",
       "      <td>3</td>\n",
       "      <td>Heikkinen, Miss. Laina</td>\n",
       "      <td>female</td>\n",
       "      <td>26.0</td>\n",
       "      <td>0</td>\n",
       "      <td>0</td>\n",
       "      <td>STON/O2. 3101282</td>\n",
       "      <td>7.9250</td>\n",
       "      <td>NaN</td>\n",
       "      <td>S</td>\n",
       "      <td>4</td>\n",
       "    </tr>\n",
       "    <tr>\n",
       "      <th>3</th>\n",
       "      <td>4</td>\n",
       "      <td>1</td>\n",
       "      <td>1</td>\n",
       "      <td>Futrelle, Mrs. Jacques Heath (Lily May Peel)</td>\n",
       "      <td>female</td>\n",
       "      <td>35.0</td>\n",
       "      <td>1</td>\n",
       "      <td>0</td>\n",
       "      <td>113803</td>\n",
       "      <td>53.1000</td>\n",
       "      <td>C123</td>\n",
       "      <td>S</td>\n",
       "      <td>4</td>\n",
       "    </tr>\n",
       "    <tr>\n",
       "      <th>4</th>\n",
       "      <td>5</td>\n",
       "      <td>0</td>\n",
       "      <td>3</td>\n",
       "      <td>Allen, Mr. William Henry</td>\n",
       "      <td>male</td>\n",
       "      <td>35.0</td>\n",
       "      <td>0</td>\n",
       "      <td>0</td>\n",
       "      <td>373450</td>\n",
       "      <td>8.0500</td>\n",
       "      <td>NaN</td>\n",
       "      <td>S</td>\n",
       "      <td>4</td>\n",
       "    </tr>\n",
       "  </tbody>\n",
       "</table>\n",
       "</div>"
      ],
      "text/plain": [
       "   PassengerId  Survived  Pclass  \\\n",
       "0            1         0       3   \n",
       "1            2         1       1   \n",
       "2            3         1       3   \n",
       "3            4         1       1   \n",
       "4            5         0       3   \n",
       "\n",
       "                                                Name     Sex   Age  SibSp  \\\n",
       "0                            Braund, Mr. Owen Harris    male  22.0      1   \n",
       "1  Cumings, Mrs. John Bradley (Florence Briggs Th...  female  38.0      1   \n",
       "2                             Heikkinen, Miss. Laina  female  26.0      0   \n",
       "3       Futrelle, Mrs. Jacques Heath (Lily May Peel)  female  35.0      1   \n",
       "4                           Allen, Mr. William Henry    male  35.0      0   \n",
       "\n",
       "   Parch            Ticket     Fare Cabin Embarked  Age_group  \n",
       "0      0         A/5 21171   7.2500   NaN        S          4  \n",
       "1      0          PC 17599  71.2833   C85        C          2  \n",
       "2      0  STON/O2. 3101282   7.9250   NaN        S          4  \n",
       "3      0            113803  53.1000  C123        S          4  \n",
       "4      0            373450   8.0500   NaN        S          4  "
      ]
     },
     "execution_count": 40,
     "metadata": {},
     "output_type": "execute_result"
    }
   ],
   "source": [
    "train.head()"
   ]
  },
  {
   "cell_type": "code",
   "execution_count": 41,
   "id": "7a683188",
   "metadata": {},
   "outputs": [],
   "source": [
    "Sex_Encoder=LabelEncoder()\n",
    "train[\"Sex\"]=Sex_Encoder.fit_transform(train[\"Sex\"])"
   ]
  },
  {
   "cell_type": "code",
   "execution_count": 42,
   "id": "0c787cad",
   "metadata": {},
   "outputs": [
    {
     "data": {
      "text/html": [
       "<div>\n",
       "<style scoped>\n",
       "    .dataframe tbody tr th:only-of-type {\n",
       "        vertical-align: middle;\n",
       "    }\n",
       "\n",
       "    .dataframe tbody tr th {\n",
       "        vertical-align: top;\n",
       "    }\n",
       "\n",
       "    .dataframe thead th {\n",
       "        text-align: right;\n",
       "    }\n",
       "</style>\n",
       "<table border=\"1\" class=\"dataframe\">\n",
       "  <thead>\n",
       "    <tr style=\"text-align: right;\">\n",
       "      <th></th>\n",
       "      <th>PassengerId</th>\n",
       "      <th>Survived</th>\n",
       "      <th>Pclass</th>\n",
       "      <th>Name</th>\n",
       "      <th>Sex</th>\n",
       "      <th>Age</th>\n",
       "      <th>SibSp</th>\n",
       "      <th>Parch</th>\n",
       "      <th>Ticket</th>\n",
       "      <th>Fare</th>\n",
       "      <th>Cabin</th>\n",
       "      <th>Embarked</th>\n",
       "      <th>Age_group</th>\n",
       "    </tr>\n",
       "  </thead>\n",
       "  <tbody>\n",
       "    <tr>\n",
       "      <th>0</th>\n",
       "      <td>1</td>\n",
       "      <td>0</td>\n",
       "      <td>3</td>\n",
       "      <td>Braund, Mr. Owen Harris</td>\n",
       "      <td>1</td>\n",
       "      <td>22.0</td>\n",
       "      <td>1</td>\n",
       "      <td>0</td>\n",
       "      <td>A/5 21171</td>\n",
       "      <td>7.2500</td>\n",
       "      <td>NaN</td>\n",
       "      <td>S</td>\n",
       "      <td>4</td>\n",
       "    </tr>\n",
       "    <tr>\n",
       "      <th>1</th>\n",
       "      <td>2</td>\n",
       "      <td>1</td>\n",
       "      <td>1</td>\n",
       "      <td>Cumings, Mrs. John Bradley (Florence Briggs Th...</td>\n",
       "      <td>0</td>\n",
       "      <td>38.0</td>\n",
       "      <td>1</td>\n",
       "      <td>0</td>\n",
       "      <td>PC 17599</td>\n",
       "      <td>71.2833</td>\n",
       "      <td>C85</td>\n",
       "      <td>C</td>\n",
       "      <td>2</td>\n",
       "    </tr>\n",
       "    <tr>\n",
       "      <th>2</th>\n",
       "      <td>3</td>\n",
       "      <td>1</td>\n",
       "      <td>3</td>\n",
       "      <td>Heikkinen, Miss. Laina</td>\n",
       "      <td>0</td>\n",
       "      <td>26.0</td>\n",
       "      <td>0</td>\n",
       "      <td>0</td>\n",
       "      <td>STON/O2. 3101282</td>\n",
       "      <td>7.9250</td>\n",
       "      <td>NaN</td>\n",
       "      <td>S</td>\n",
       "      <td>4</td>\n",
       "    </tr>\n",
       "    <tr>\n",
       "      <th>3</th>\n",
       "      <td>4</td>\n",
       "      <td>1</td>\n",
       "      <td>1</td>\n",
       "      <td>Futrelle, Mrs. Jacques Heath (Lily May Peel)</td>\n",
       "      <td>0</td>\n",
       "      <td>35.0</td>\n",
       "      <td>1</td>\n",
       "      <td>0</td>\n",
       "      <td>113803</td>\n",
       "      <td>53.1000</td>\n",
       "      <td>C123</td>\n",
       "      <td>S</td>\n",
       "      <td>4</td>\n",
       "    </tr>\n",
       "    <tr>\n",
       "      <th>4</th>\n",
       "      <td>5</td>\n",
       "      <td>0</td>\n",
       "      <td>3</td>\n",
       "      <td>Allen, Mr. William Henry</td>\n",
       "      <td>1</td>\n",
       "      <td>35.0</td>\n",
       "      <td>0</td>\n",
       "      <td>0</td>\n",
       "      <td>373450</td>\n",
       "      <td>8.0500</td>\n",
       "      <td>NaN</td>\n",
       "      <td>S</td>\n",
       "      <td>4</td>\n",
       "    </tr>\n",
       "  </tbody>\n",
       "</table>\n",
       "</div>"
      ],
      "text/plain": [
       "   PassengerId  Survived  Pclass  \\\n",
       "0            1         0       3   \n",
       "1            2         1       1   \n",
       "2            3         1       3   \n",
       "3            4         1       1   \n",
       "4            5         0       3   \n",
       "\n",
       "                                                Name  Sex   Age  SibSp  Parch  \\\n",
       "0                            Braund, Mr. Owen Harris    1  22.0      1      0   \n",
       "1  Cumings, Mrs. John Bradley (Florence Briggs Th...    0  38.0      1      0   \n",
       "2                             Heikkinen, Miss. Laina    0  26.0      0      0   \n",
       "3       Futrelle, Mrs. Jacques Heath (Lily May Peel)    0  35.0      1      0   \n",
       "4                           Allen, Mr. William Henry    1  35.0      0      0   \n",
       "\n",
       "             Ticket     Fare Cabin Embarked  Age_group  \n",
       "0         A/5 21171   7.2500   NaN        S          4  \n",
       "1          PC 17599  71.2833   C85        C          2  \n",
       "2  STON/O2. 3101282   7.9250   NaN        S          4  \n",
       "3            113803  53.1000  C123        S          4  \n",
       "4            373450   8.0500   NaN        S          4  "
      ]
     },
     "execution_count": 42,
     "metadata": {},
     "output_type": "execute_result"
    }
   ],
   "source": [
    "train.head()"
   ]
  },
  {
   "cell_type": "code",
   "execution_count": 43,
   "id": "2c493b9d",
   "metadata": {},
   "outputs": [],
   "source": [
    "Embarked_Encoder=LabelEncoder()\n",
    "train[\"Embarked\"]=Embarked_Encoder.fit_transform(train[\"Embarked\"])"
   ]
  },
  {
   "cell_type": "code",
   "execution_count": 44,
   "id": "c30fab1f",
   "metadata": {},
   "outputs": [
    {
     "data": {
      "text/html": [
       "<div>\n",
       "<style scoped>\n",
       "    .dataframe tbody tr th:only-of-type {\n",
       "        vertical-align: middle;\n",
       "    }\n",
       "\n",
       "    .dataframe tbody tr th {\n",
       "        vertical-align: top;\n",
       "    }\n",
       "\n",
       "    .dataframe thead th {\n",
       "        text-align: right;\n",
       "    }\n",
       "</style>\n",
       "<table border=\"1\" class=\"dataframe\">\n",
       "  <thead>\n",
       "    <tr style=\"text-align: right;\">\n",
       "      <th></th>\n",
       "      <th>PassengerId</th>\n",
       "      <th>Survived</th>\n",
       "      <th>Pclass</th>\n",
       "      <th>Name</th>\n",
       "      <th>Sex</th>\n",
       "      <th>Age</th>\n",
       "      <th>SibSp</th>\n",
       "      <th>Parch</th>\n",
       "      <th>Ticket</th>\n",
       "      <th>Fare</th>\n",
       "      <th>Cabin</th>\n",
       "      <th>Embarked</th>\n",
       "      <th>Age_group</th>\n",
       "    </tr>\n",
       "  </thead>\n",
       "  <tbody>\n",
       "    <tr>\n",
       "      <th>0</th>\n",
       "      <td>1</td>\n",
       "      <td>0</td>\n",
       "      <td>3</td>\n",
       "      <td>Braund, Mr. Owen Harris</td>\n",
       "      <td>1</td>\n",
       "      <td>22.0</td>\n",
       "      <td>1</td>\n",
       "      <td>0</td>\n",
       "      <td>A/5 21171</td>\n",
       "      <td>7.2500</td>\n",
       "      <td>NaN</td>\n",
       "      <td>2</td>\n",
       "      <td>4</td>\n",
       "    </tr>\n",
       "    <tr>\n",
       "      <th>1</th>\n",
       "      <td>2</td>\n",
       "      <td>1</td>\n",
       "      <td>1</td>\n",
       "      <td>Cumings, Mrs. John Bradley (Florence Briggs Th...</td>\n",
       "      <td>0</td>\n",
       "      <td>38.0</td>\n",
       "      <td>1</td>\n",
       "      <td>0</td>\n",
       "      <td>PC 17599</td>\n",
       "      <td>71.2833</td>\n",
       "      <td>C85</td>\n",
       "      <td>0</td>\n",
       "      <td>2</td>\n",
       "    </tr>\n",
       "    <tr>\n",
       "      <th>2</th>\n",
       "      <td>3</td>\n",
       "      <td>1</td>\n",
       "      <td>3</td>\n",
       "      <td>Heikkinen, Miss. Laina</td>\n",
       "      <td>0</td>\n",
       "      <td>26.0</td>\n",
       "      <td>0</td>\n",
       "      <td>0</td>\n",
       "      <td>STON/O2. 3101282</td>\n",
       "      <td>7.9250</td>\n",
       "      <td>NaN</td>\n",
       "      <td>2</td>\n",
       "      <td>4</td>\n",
       "    </tr>\n",
       "    <tr>\n",
       "      <th>3</th>\n",
       "      <td>4</td>\n",
       "      <td>1</td>\n",
       "      <td>1</td>\n",
       "      <td>Futrelle, Mrs. Jacques Heath (Lily May Peel)</td>\n",
       "      <td>0</td>\n",
       "      <td>35.0</td>\n",
       "      <td>1</td>\n",
       "      <td>0</td>\n",
       "      <td>113803</td>\n",
       "      <td>53.1000</td>\n",
       "      <td>C123</td>\n",
       "      <td>2</td>\n",
       "      <td>4</td>\n",
       "    </tr>\n",
       "    <tr>\n",
       "      <th>4</th>\n",
       "      <td>5</td>\n",
       "      <td>0</td>\n",
       "      <td>3</td>\n",
       "      <td>Allen, Mr. William Henry</td>\n",
       "      <td>1</td>\n",
       "      <td>35.0</td>\n",
       "      <td>0</td>\n",
       "      <td>0</td>\n",
       "      <td>373450</td>\n",
       "      <td>8.0500</td>\n",
       "      <td>NaN</td>\n",
       "      <td>2</td>\n",
       "      <td>4</td>\n",
       "    </tr>\n",
       "  </tbody>\n",
       "</table>\n",
       "</div>"
      ],
      "text/plain": [
       "   PassengerId  Survived  Pclass  \\\n",
       "0            1         0       3   \n",
       "1            2         1       1   \n",
       "2            3         1       3   \n",
       "3            4         1       1   \n",
       "4            5         0       3   \n",
       "\n",
       "                                                Name  Sex   Age  SibSp  Parch  \\\n",
       "0                            Braund, Mr. Owen Harris    1  22.0      1      0   \n",
       "1  Cumings, Mrs. John Bradley (Florence Briggs Th...    0  38.0      1      0   \n",
       "2                             Heikkinen, Miss. Laina    0  26.0      0      0   \n",
       "3       Futrelle, Mrs. Jacques Heath (Lily May Peel)    0  35.0      1      0   \n",
       "4                           Allen, Mr. William Henry    1  35.0      0      0   \n",
       "\n",
       "             Ticket     Fare Cabin  Embarked  Age_group  \n",
       "0         A/5 21171   7.2500   NaN         2          4  \n",
       "1          PC 17599  71.2833   C85         0          2  \n",
       "2  STON/O2. 3101282   7.9250   NaN         2          4  \n",
       "3            113803  53.1000  C123         2          4  \n",
       "4            373450   8.0500   NaN         2          4  "
      ]
     },
     "execution_count": 44,
     "metadata": {},
     "output_type": "execute_result"
    }
   ],
   "source": [
    "train.head()"
   ]
  },
  {
   "cell_type": "code",
   "execution_count": 45,
   "id": "1de23f5e",
   "metadata": {},
   "outputs": [],
   "source": [
    "median=train['Embarked'].median()\n",
    "train['Embarked'].fillna(median,inplace=True)"
   ]
  },
  {
   "cell_type": "code",
   "execution_count": 46,
   "id": "40bdb222",
   "metadata": {},
   "outputs": [
    {
     "name": "stdout",
     "output_type": "stream",
     "text": [
      "<class 'pandas.core.frame.DataFrame'>\n",
      "RangeIndex: 891 entries, 0 to 890\n",
      "Data columns (total 13 columns):\n",
      " #   Column       Non-Null Count  Dtype  \n",
      "---  ------       --------------  -----  \n",
      " 0   PassengerId  891 non-null    int64  \n",
      " 1   Survived     891 non-null    int64  \n",
      " 2   Pclass       891 non-null    int64  \n",
      " 3   Name         891 non-null    object \n",
      " 4   Sex          891 non-null    int32  \n",
      " 5   Age          891 non-null    float64\n",
      " 6   SibSp        891 non-null    int64  \n",
      " 7   Parch        891 non-null    int64  \n",
      " 8   Ticket       891 non-null    object \n",
      " 9   Fare         891 non-null    float64\n",
      " 10  Cabin        204 non-null    object \n",
      " 11  Embarked     891 non-null    int32  \n",
      " 12  Age_group    891 non-null    int32  \n",
      "dtypes: float64(2), int32(3), int64(5), object(3)\n",
      "memory usage: 80.2+ KB\n"
     ]
    }
   ],
   "source": [
    "train.info()"
   ]
  },
  {
   "cell_type": "code",
   "execution_count": 47,
   "id": "38d916c2",
   "metadata": {},
   "outputs": [],
   "source": [
    "X=train[[\"Age_group\",\"Sex\",\"Embarked\",\"Fare\",\"Pclass\"]]\n",
    "y=train[\"Survived\"]"
   ]
  },
  {
   "cell_type": "code",
   "execution_count": 48,
   "id": "1022146e",
   "metadata": {},
   "outputs": [],
   "source": [
    "X_train, X_test, y_train, y_test = train_test_split(X,y, test_size=0.25, random_state=42)"
   ]
  },
  {
   "cell_type": "code",
   "execution_count": 49,
   "id": "56344c24",
   "metadata": {},
   "outputs": [
    {
     "data": {
      "text/plain": [
       "(668, 5)"
      ]
     },
     "execution_count": 49,
     "metadata": {},
     "output_type": "execute_result"
    }
   ],
   "source": [
    "X_train.shape"
   ]
  },
  {
   "cell_type": "code",
   "execution_count": 50,
   "id": "4f244458",
   "metadata": {},
   "outputs": [
    {
     "data": {
      "text/plain": [
       "(668,)"
      ]
     },
     "execution_count": 50,
     "metadata": {},
     "output_type": "execute_result"
    }
   ],
   "source": [
    "y_train.shape"
   ]
  },
  {
   "cell_type": "code",
   "execution_count": 51,
   "id": "f34cd6c3",
   "metadata": {},
   "outputs": [
    {
     "data": {
      "text/plain": [
       "(223, 5)"
      ]
     },
     "execution_count": 51,
     "metadata": {},
     "output_type": "execute_result"
    }
   ],
   "source": [
    "X_test.shape"
   ]
  },
  {
   "cell_type": "code",
   "execution_count": 52,
   "id": "c6af491d",
   "metadata": {},
   "outputs": [
    {
     "data": {
      "text/plain": [
       "(223,)"
      ]
     },
     "execution_count": 52,
     "metadata": {},
     "output_type": "execute_result"
    }
   ],
   "source": [
    "y_test.shape"
   ]
  },
  {
   "cell_type": "code",
   "execution_count": null,
   "id": "ce9e10a0",
   "metadata": {},
   "outputs": [],
   "source": []
  },
  {
   "cell_type": "code",
   "execution_count": 53,
   "id": "eec6fbed",
   "metadata": {},
   "outputs": [],
   "source": [
    "log_reg=LogisticRegression()"
   ]
  },
  {
   "cell_type": "code",
   "execution_count": 54,
   "id": "a94323f1",
   "metadata": {},
   "outputs": [
    {
     "data": {
      "text/plain": [
       "LogisticRegression()"
      ]
     },
     "execution_count": 54,
     "metadata": {},
     "output_type": "execute_result"
    }
   ],
   "source": [
    "log_reg.fit(X_train,y_train)"
   ]
  },
  {
   "cell_type": "code",
   "execution_count": 55,
   "id": "124bd33b",
   "metadata": {},
   "outputs": [
    {
     "data": {
      "text/plain": [
       "0.7859281437125748"
      ]
     },
     "execution_count": 55,
     "metadata": {},
     "output_type": "execute_result"
    }
   ],
   "source": [
    "log_reg.score(X_train,y_train) ##training accuracy score##"
   ]
  },
  {
   "cell_type": "code",
   "execution_count": 56,
   "id": "870271ce",
   "metadata": {},
   "outputs": [
    {
     "data": {
      "text/plain": [
       "0.7533632286995515"
      ]
     },
     "execution_count": 56,
     "metadata": {},
     "output_type": "execute_result"
    }
   ],
   "source": [
    "log_reg.score(X_test,y_test) ##testing accuracy score##"
   ]
  },
  {
   "cell_type": "code",
   "execution_count": 85,
   "id": "28db6fa6",
   "metadata": {},
   "outputs": [],
   "source": [
    "prediction=log_reg.predict(X_test)"
   ]
  },
  {
   "cell_type": "markdown",
   "id": "34cc48a4",
   "metadata": {},
   "source": [
    "***based on our train value count we observed that 549 died while 342 survived **\n",
    "- positive:died = 0\n",
    "- negative:survived = 1 .\n",
    "\n",
    "so from your confussion matrix we already know that 102 represent people that died \n",
    "\n",
    "positive is based on what we have on what we have on our confusion matrix"
   ]
  },
  {
   "cell_type": "code",
   "execution_count": 58,
   "id": "12b67af4",
   "metadata": {},
   "outputs": [
    {
     "data": {
      "text/plain": [
       "array([[102,  32],\n",
       "       [ 23,  66]], dtype=int64)"
      ]
     },
     "execution_count": 58,
     "metadata": {},
     "output_type": "execute_result"
    }
   ],
   "source": [
    "confusion_matrix(y_test,prediction)"
   ]
  },
  {
   "cell_type": "markdown",
   "id": "a4c8461b",
   "metadata": {},
   "source": [
    "**observation**\n",
    "\n",
    "1. true positive: the machine predicted  102 person  died  and they actually died \n",
    "2. false negative: the machine predicted 32 person survived and it was actually died \n",
    "3. false positive : the machine predicted 23 person died and it was actually survived \n",
    "4. true negative : the machine predicted 66 person survived  times it was actually survived "
   ]
  },
  {
   "cell_type": "markdown",
   "id": "bdaf02ac",
   "metadata": {},
   "source": [
    "***example 1**\n",
    "\n",
    "\n",
    "we have a data \n",
    "data =survived,survived , survived survived , survived,  survivd, died\n",
    "predictions= survived survived,survived , survived survived , survived,  survived, \n",
    "\n",
    "accuracy score = predictions/data\n",
    "precision score= actual data of survived/prediction of survived \n",
    "recall  score: the actual data for died/ by predictions"
   ]
  },
  {
   "cell_type": "code",
   "execution_count": 59,
   "id": "7dea1524",
   "metadata": {},
   "outputs": [
    {
     "data": {
      "text/plain": [
       "0.673469387755102"
      ]
     },
     "execution_count": 59,
     "metadata": {},
     "output_type": "execute_result"
    }
   ],
   "source": [
    "precision_score(y_test,prediction)"
   ]
  },
  {
   "cell_type": "code",
   "execution_count": 60,
   "id": "60da9bec",
   "metadata": {},
   "outputs": [
    {
     "data": {
      "text/plain": [
       "0.7415730337078652"
      ]
     },
     "execution_count": 60,
     "metadata": {},
     "output_type": "execute_result"
    }
   ],
   "source": [
    "recall_score(y_test,prediction)"
   ]
  },
  {
   "cell_type": "code",
   "execution_count": 61,
   "id": "2e9be09f",
   "metadata": {},
   "outputs": [
    {
     "data": {
      "text/plain": [
       "0.7058823529411764"
      ]
     },
     "execution_count": 61,
     "metadata": {},
     "output_type": "execute_result"
    }
   ],
   "source": [
    "f1_score(y_test,prediction)"
   ]
  },
  {
   "cell_type": "code",
   "execution_count": 62,
   "id": "185936ba",
   "metadata": {},
   "outputs": [],
   "source": [
    "from sklearn.metrics import classification_report"
   ]
  },
  {
   "cell_type": "code",
   "execution_count": 63,
   "id": "ee6efa01",
   "metadata": {},
   "outputs": [
    {
     "name": "stdout",
     "output_type": "stream",
     "text": [
      "              precision    recall  f1-score   support\n",
      "\n",
      "           0       0.76      0.82      0.79       125\n",
      "           1       0.74      0.67      0.71        98\n",
      "\n",
      "    accuracy                           0.75       223\n",
      "   macro avg       0.75      0.74      0.75       223\n",
      "weighted avg       0.75      0.75      0.75       223\n",
      "\n"
     ]
    }
   ],
   "source": [
    "print(classification_report(prediction, y_test))"
   ]
  },
  {
   "cell_type": "markdown",
   "id": "6fba07c2",
   "metadata": {},
   "source": [
    "**decision tree classifier**\n",
    "\n",
    "A classification tree is used to predict a discrete variable\n",
    "in classification tree, we predict the most occuring variable."
   ]
  },
  {
   "cell_type": "code",
   "execution_count": 64,
   "id": "eb8eb9de",
   "metadata": {},
   "outputs": [],
   "source": [
    "tree=DecisionTreeClassifier(max_depth=2)"
   ]
  },
  {
   "cell_type": "code",
   "execution_count": 65,
   "id": "676120ad",
   "metadata": {},
   "outputs": [
    {
     "data": {
      "text/plain": [
       "DecisionTreeClassifier(max_depth=2)"
      ]
     },
     "execution_count": 65,
     "metadata": {},
     "output_type": "execute_result"
    }
   ],
   "source": [
    "tree.fit(X_train,y_train)"
   ]
  },
  {
   "cell_type": "code",
   "execution_count": 66,
   "id": "ca0ff7f0",
   "metadata": {},
   "outputs": [
    {
     "data": {
      "text/plain": [
       "0.7889221556886228"
      ]
     },
     "execution_count": 66,
     "metadata": {},
     "output_type": "execute_result"
    }
   ],
   "source": [
    "tree.score(X_train,y_train)"
   ]
  },
  {
   "cell_type": "code",
   "execution_count": 67,
   "id": "90dd1a8d",
   "metadata": {},
   "outputs": [
    {
     "data": {
      "text/plain": [
       "0.7802690582959642"
      ]
     },
     "execution_count": 67,
     "metadata": {},
     "output_type": "execute_result"
    }
   ],
   "source": [
    "tree.score(X_test,y_test)"
   ]
  },
  {
   "cell_type": "code",
   "execution_count": 68,
   "id": "e554811e",
   "metadata": {},
   "outputs": [
    {
     "data": {
      "image/png": "[encoded data removed]",
      "text/plain": [
       "<Figure size 1728x864 with 1 Axes>"
      ]
     },
     "metadata": {
      "needs_background": "light"
     },
     "output_type": "display_data"
    }
   ],
   "source": [
    "fig,ax=plt.subplots(figsize=(24,12))\n",
    "tr.plot_tree(tree,ax=ax,feature_names=X_train.columns,class_names=['Survived','Died'])\n",
    "plt.show()"
   ]
  },
  {
   "cell_type": "code",
   "execution_count": 69,
   "id": "3a75aa53",
   "metadata": {},
   "outputs": [],
   "source": [
    "prediction=tree.predict(X_test)"
   ]
  },
  {
   "cell_type": "code",
   "execution_count": 70,
   "id": "2646a4ce",
   "metadata": {},
   "outputs": [
    {
     "data": {
      "text/plain": [
       "array([[129,   5],\n",
       "       [ 44,  45]], dtype=int64)"
      ]
     },
     "execution_count": 70,
     "metadata": {},
     "output_type": "execute_result"
    }
   ],
   "source": [
    "confusion_matrix(y_test, prediction)"
   ]
  },
  {
   "cell_type": "markdown",
   "id": "68357fa8",
   "metadata": {},
   "source": [
    "**observation**\n",
    "\n",
    "1. true positive:the machine predicted died 129 times and it was actually died \n",
    "2. false negative: the machine predicted survived 5 times and it was actually died \n",
    "3. false positive : the machine predicte died 44 times and it was actually survived \n",
    "4. true negative : the machine predicted survived 45 times it was actually survived "
   ]
  },
  {
   "cell_type": "code",
   "execution_count": 71,
   "id": "360c6c95",
   "metadata": {},
   "outputs": [
    {
     "data": {
      "text/plain": [
       "0.9"
      ]
     },
     "execution_count": 71,
     "metadata": {},
     "output_type": "execute_result"
    }
   ],
   "source": [
    "precision_score(y_test,prediction)"
   ]
  },
  {
   "cell_type": "code",
   "execution_count": 72,
   "id": "9f3e6052",
   "metadata": {},
   "outputs": [
    {
     "data": {
      "text/plain": [
       "0.5056179775280899"
      ]
     },
     "execution_count": 72,
     "metadata": {},
     "output_type": "execute_result"
    }
   ],
   "source": [
    "recall_score(y_test,prediction)"
   ]
  },
  {
   "cell_type": "code",
   "execution_count": 90,
   "id": "21e9315c",
   "metadata": {},
   "outputs": [
    {
     "data": {
      "text/plain": [
       "0.7058823529411764"
      ]
     },
     "execution_count": 90,
     "metadata": {},
     "output_type": "execute_result"
    }
   ],
   "source": [
    "f1_score(y_test,prediction)"
   ]
  },
  {
   "cell_type": "code",
   "execution_count": 91,
   "id": "b2a68628",
   "metadata": {},
   "outputs": [],
   "source": [
    "##model optimization##"
   ]
  },
  {
   "cell_type": "code",
   "execution_count": 94,
   "id": "abe1a60f",
   "metadata": {},
   "outputs": [
    {
     "name": "stdout",
     "output_type": "stream",
     "text": [
      "Fitting 3 folds for each of 80 candidates, totalling 240 fits\n",
      "[CV 1/3; 1/80] START max_depth=2, max_leaf_nodes=2, min_samples_split=12........\n",
      "[CV 1/3; 1/80] END max_depth=2, max_leaf_nodes=2, min_samples_split=12;, score=0.720 total time=   0.0s\n",
      "[CV 2/3; 1/80] START max_depth=2, max_leaf_nodes=2, min_samples_split=12........\n",
      "[CV 2/3; 1/80] END max_depth=2, max_leaf_nodes=2, min_samples_split=12;, score=0.667 total time=   0.0s\n",
      "[CV 3/3; 1/80] START max_depth=2, max_leaf_nodes=2, min_samples_split=12........\n",
      "[CV 3/3; 1/80] END max_depth=2, max_leaf_nodes=2, min_samples_split=12;, score=0.730 total time=   0.0s\n",
      "[CV 1/3; 2/80] START max_depth=2, max_leaf_nodes=2, min_samples_split=18........\n",
      "[CV 1/3; 2/80] END max_depth=2, max_leaf_nodes=2, min_samples_split=18;, score=0.720 total time=   0.0s\n",
      "[CV 2/3; 2/80] START max_depth=2, max_leaf_nodes=2, min_samples_split=18........\n",
      "[CV 2/3; 2/80] END max_depth=2, max_leaf_nodes=2, min_samples_split=18;, score=0.667 total time=   0.0s\n",
      "[CV 3/3; 2/80] START max_depth=2, max_leaf_nodes=2, min_samples_split=18........\n",
      "[CV 3/3; 2/80] END max_depth=2, max_leaf_nodes=2, min_samples_split=18;, score=0.730 total time=   0.0s\n",
      "[CV 1/3; 3/80] START max_depth=2, max_leaf_nodes=2, min_samples_split=20........\n",
      "[CV 1/3; 3/80] END max_depth=2, max_leaf_nodes=2, min_samples_split=20;, score=0.720 total time=   0.0s\n",
      "[CV 2/3; 3/80] START max_depth=2, max_leaf_nodes=2, min_samples_split=20........\n",
      "[CV 2/3; 3/80] END max_depth=2, max_leaf_nodes=2, min_samples_split=20;, score=0.667 total time=   0.0s\n",
      "[CV 3/3; 3/80] START max_depth=2, max_leaf_nodes=2, min_samples_split=20........\n",
      "[CV 3/3; 3/80] END max_depth=2, max_leaf_nodes=2, min_samples_split=20;, score=0.730 total time=   0.0s\n",
      "[CV 1/3; 4/80] START max_depth=2, max_leaf_nodes=2, min_samples_split=12........\n",
      "[CV 1/3; 4/80] END max_depth=2, max_leaf_nodes=2, min_samples_split=12;, score=0.720 total time=   0.0s\n",
      "[CV 2/3; 4/80] START max_depth=2, max_leaf_nodes=2, min_samples_split=12........\n",
      "[CV 2/3; 4/80] END max_depth=2, max_leaf_nodes=2, min_samples_split=12;, score=0.667 total time=   0.0s\n",
      "[CV 3/3; 4/80] START max_depth=2, max_leaf_nodes=2, min_samples_split=12........\n",
      "[CV 3/3; 4/80] END max_depth=2, max_leaf_nodes=2, min_samples_split=12;, score=0.730 total time=   0.0s\n",
      "[CV 1/3; 5/80] START max_depth=2, max_leaf_nodes=8, min_samples_split=12........\n",
      "[CV 1/3; 5/80] END max_depth=2, max_leaf_nodes=8, min_samples_split=12;, score=0.662 total time=   0.0s\n",
      "[CV 2/3; 5/80] START max_depth=2, max_leaf_nodes=8, min_samples_split=12........\n",
      "[CV 2/3; 5/80] END max_depth=2, max_leaf_nodes=8, min_samples_split=12;, score=0.667 total time=   0.0s\n",
      "[CV 3/3; 5/80] START max_depth=2, max_leaf_nodes=8, min_samples_split=12........\n",
      "[CV 3/3; 5/80] END max_depth=2, max_leaf_nodes=8, min_samples_split=12;, score=0.607 total time=   0.0s\n",
      "[CV 1/3; 6/80] START max_depth=2, max_leaf_nodes=8, min_samples_split=18........\n",
      "[CV 1/3; 6/80] END max_depth=2, max_leaf_nodes=8, min_samples_split=18;, score=0.662 total time=   0.0s\n",
      "[CV 2/3; 6/80] START max_depth=2, max_leaf_nodes=8, min_samples_split=18........\n",
      "[CV 2/3; 6/80] END max_depth=2, max_leaf_nodes=8, min_samples_split=18;, score=0.667 total time=   0.0s\n",
      "[CV 3/3; 6/80] START max_depth=2, max_leaf_nodes=8, min_samples_split=18........\n",
      "[CV 3/3; 6/80] END max_depth=2, max_leaf_nodes=8, min_samples_split=18;, score=0.607 total time=   0.0s\n",
      "[CV 1/3; 7/80] START max_depth=2, max_leaf_nodes=8, min_samples_split=20........\n",
      "[CV 1/3; 7/80] END max_depth=2, max_leaf_nodes=8, min_samples_split=20;, score=0.662 total time=   0.0s\n",
      "[CV 2/3; 7/80] START max_depth=2, max_leaf_nodes=8, min_samples_split=20........\n",
      "[CV 2/3; 7/80] END max_depth=2, max_leaf_nodes=8, min_samples_split=20;, score=0.667 total time=   0.0s\n",
      "[CV 3/3; 7/80] START max_depth=2, max_leaf_nodes=8, min_samples_split=20........\n",
      "[CV 3/3; 7/80] END max_depth=2, max_leaf_nodes=8, min_samples_split=20;, score=0.607 total time=   0.0s\n",
      "[CV 1/3; 8/80] START max_depth=2, max_leaf_nodes=8, min_samples_split=12........\n",
      "[CV 1/3; 8/80] END max_depth=2, max_leaf_nodes=8, min_samples_split=12;, score=0.662 total time=   0.0s\n",
      "[CV 2/3; 8/80] START max_depth=2, max_leaf_nodes=8, min_samples_split=12........\n",
      "[CV 2/3; 8/80] END max_depth=2, max_leaf_nodes=8, min_samples_split=12;, score=0.667 total time=   0.0s\n",
      "[CV 3/3; 8/80] START max_depth=2, max_leaf_nodes=8, min_samples_split=12........\n",
      "[CV 3/3; 8/80] END max_depth=2, max_leaf_nodes=8, min_samples_split=12;, score=0.607 total time=   0.0s\n",
      "[CV 1/3; 9/80] START max_depth=2, max_leaf_nodes=10, min_samples_split=12.......\n",
      "[CV 1/3; 9/80] END max_depth=2, max_leaf_nodes=10, min_samples_split=12;, score=0.662 total time=   0.0s\n",
      "[CV 2/3; 9/80] START max_depth=2, max_leaf_nodes=10, min_samples_split=12.......\n",
      "[CV 2/3; 9/80] END max_depth=2, max_leaf_nodes=10, min_samples_split=12;, score=0.667 total time=   0.0s\n",
      "[CV 3/3; 9/80] START max_depth=2, max_leaf_nodes=10, min_samples_split=12.......\n",
      "[CV 3/3; 9/80] END max_depth=2, max_leaf_nodes=10, min_samples_split=12;, score=0.607 total time=   0.0s\n",
      "[CV 1/3; 10/80] START max_depth=2, max_leaf_nodes=10, min_samples_split=18......\n",
      "[CV 1/3; 10/80] END max_depth=2, max_leaf_nodes=10, min_samples_split=18;, score=0.662 total time=   0.0s\n",
      "[CV 2/3; 10/80] START max_depth=2, max_leaf_nodes=10, min_samples_split=18......\n",
      "[CV 2/3; 10/80] END max_depth=2, max_leaf_nodes=10, min_samples_split=18;, score=0.667 total time=   0.0s\n",
      "[CV 3/3; 10/80] START max_depth=2, max_leaf_nodes=10, min_samples_split=18......\n",
      "[CV 3/3; 10/80] END max_depth=2, max_leaf_nodes=10, min_samples_split=18;, score=0.607 total time=   0.0s\n",
      "[CV 1/3; 11/80] START max_depth=2, max_leaf_nodes=10, min_samples_split=20......\n",
      "[CV 1/3; 11/80] END max_depth=2, max_leaf_nodes=10, min_samples_split=20;, score=0.662 total time=   0.0s\n",
      "[CV 2/3; 11/80] START max_depth=2, max_leaf_nodes=10, min_samples_split=20......\n",
      "[CV 2/3; 11/80] END max_depth=2, max_leaf_nodes=10, min_samples_split=20;, score=0.667 total time=   0.0s\n",
      "[CV 3/3; 11/80] START max_depth=2, max_leaf_nodes=10, min_samples_split=20......\n",
      "[CV 3/3; 11/80] END max_depth=2, max_leaf_nodes=10, min_samples_split=20;, score=0.607 total time=   0.0s\n",
      "[CV 1/3; 12/80] START max_depth=2, max_leaf_nodes=10, min_samples_split=12......\n",
      "[CV 1/3; 12/80] END max_depth=2, max_leaf_nodes=10, min_samples_split=12;, score=0.662 total time=   0.0s\n",
      "[CV 2/3; 12/80] START max_depth=2, max_leaf_nodes=10, min_samples_split=12......\n",
      "[CV 2/3; 12/80] END max_depth=2, max_leaf_nodes=10, min_samples_split=12;, score=0.667 total time=   0.0s\n",
      "[CV 3/3; 12/80] START max_depth=2, max_leaf_nodes=10, min_samples_split=12......\n",
      "[CV 3/3; 12/80] END max_depth=2, max_leaf_nodes=10, min_samples_split=12;, score=0.607 total time=   0.0s\n",
      "[CV 1/3; 13/80] START max_depth=2, max_leaf_nodes=12, min_samples_split=12......\n",
      "[CV 1/3; 13/80] END max_depth=2, max_leaf_nodes=12, min_samples_split=12;, score=0.662 total time=   0.0s\n",
      "[CV 2/3; 13/80] START max_depth=2, max_leaf_nodes=12, min_samples_split=12......\n",
      "[CV 2/3; 13/80] END max_depth=2, max_leaf_nodes=12, min_samples_split=12;, score=0.667 total time=   0.0s\n",
      "[CV 3/3; 13/80] START max_depth=2, max_leaf_nodes=12, min_samples_split=12......\n",
      "[CV 3/3; 13/80] END max_depth=2, max_leaf_nodes=12, min_samples_split=12;, score=0.607 total time=   0.0s\n",
      "[CV 1/3; 14/80] START max_depth=2, max_leaf_nodes=12, min_samples_split=18......\n",
      "[CV 1/3; 14/80] END max_depth=2, max_leaf_nodes=12, min_samples_split=18;, score=0.662 total time=   0.0s\n",
      "[CV 2/3; 14/80] START max_depth=2, max_leaf_nodes=12, min_samples_split=18......\n",
      "[CV 2/3; 14/80] END max_depth=2, max_leaf_nodes=12, min_samples_split=18;, score=0.667 total time=   0.0s\n",
      "[CV 3/3; 14/80] START max_depth=2, max_leaf_nodes=12, min_samples_split=18......\n",
      "[CV 3/3; 14/80] END max_depth=2, max_leaf_nodes=12, min_samples_split=18;, score=0.607 total time=   0.0s\n",
      "[CV 1/3; 15/80] START max_depth=2, max_leaf_nodes=12, min_samples_split=20......\n",
      "[CV 1/3; 15/80] END max_depth=2, max_leaf_nodes=12, min_samples_split=20;, score=0.662 total time=   0.0s\n",
      "[CV 2/3; 15/80] START max_depth=2, max_leaf_nodes=12, min_samples_split=20......\n",
      "[CV 2/3; 15/80] END max_depth=2, max_leaf_nodes=12, min_samples_split=20;, score=0.667 total time=   0.0s\n",
      "[CV 3/3; 15/80] START max_depth=2, max_leaf_nodes=12, min_samples_split=20......\n",
      "[CV 3/3; 15/80] END max_depth=2, max_leaf_nodes=12, min_samples_split=20;, score=0.607 total time=   0.0s\n",
      "[CV 1/3; 16/80] START max_depth=2, max_leaf_nodes=12, min_samples_split=12......\n",
      "[CV 1/3; 16/80] END max_depth=2, max_leaf_nodes=12, min_samples_split=12;, score=0.662 total time=   0.0s\n",
      "[CV 2/3; 16/80] START max_depth=2, max_leaf_nodes=12, min_samples_split=12......\n",
      "[CV 2/3; 16/80] END max_depth=2, max_leaf_nodes=12, min_samples_split=12;, score=0.667 total time=   0.0s\n",
      "[CV 3/3; 16/80] START max_depth=2, max_leaf_nodes=12, min_samples_split=12......\n",
      "[CV 3/3; 16/80] END max_depth=2, max_leaf_nodes=12, min_samples_split=12;, score=0.607 total time=   0.0s\n",
      "[CV 1/3; 17/80] START max_depth=4, max_leaf_nodes=2, min_samples_split=12.......\n",
      "[CV 1/3; 17/80] END max_depth=4, max_leaf_nodes=2, min_samples_split=12;, score=0.720 total time=   0.0s\n",
      "[CV 2/3; 17/80] START max_depth=4, max_leaf_nodes=2, min_samples_split=12.......\n",
      "[CV 2/3; 17/80] END max_depth=4, max_leaf_nodes=2, min_samples_split=12;, score=0.667 total time=   0.0s\n",
      "[CV 3/3; 17/80] START max_depth=4, max_leaf_nodes=2, min_samples_split=12.......\n"
     ]
    },
    {
     "name": "stdout",
     "output_type": "stream",
     "text": [
      "[CV 3/3; 17/80] END max_depth=4, max_leaf_nodes=2, min_samples_split=12;, score=0.730 total time=   0.0s\n",
      "[CV 1/3; 18/80] START max_depth=4, max_leaf_nodes=2, min_samples_split=18.......\n",
      "[CV 1/3; 18/80] END max_depth=4, max_leaf_nodes=2, min_samples_split=18;, score=0.720 total time=   0.0s\n",
      "[CV 2/3; 18/80] START max_depth=4, max_leaf_nodes=2, min_samples_split=18.......\n",
      "[CV 2/3; 18/80] END max_depth=4, max_leaf_nodes=2, min_samples_split=18;, score=0.667 total time=   0.0s\n",
      "[CV 3/3; 18/80] START max_depth=4, max_leaf_nodes=2, min_samples_split=18.......\n",
      "[CV 3/3; 18/80] END max_depth=4, max_leaf_nodes=2, min_samples_split=18;, score=0.730 total time=   0.0s\n",
      "[CV 1/3; 19/80] START max_depth=4, max_leaf_nodes=2, min_samples_split=20.......\n",
      "[CV 1/3; 19/80] END max_depth=4, max_leaf_nodes=2, min_samples_split=20;, score=0.720 total time=   0.0s\n",
      "[CV 2/3; 19/80] START max_depth=4, max_leaf_nodes=2, min_samples_split=20.......\n",
      "[CV 2/3; 19/80] END max_depth=4, max_leaf_nodes=2, min_samples_split=20;, score=0.667 total time=   0.0s\n",
      "[CV 3/3; 19/80] START max_depth=4, max_leaf_nodes=2, min_samples_split=20.......\n",
      "[CV 3/3; 19/80] END max_depth=4, max_leaf_nodes=2, min_samples_split=20;, score=0.730 total time=   0.0s\n",
      "[CV 1/3; 20/80] START max_depth=4, max_leaf_nodes=2, min_samples_split=12.......\n",
      "[CV 1/3; 20/80] END max_depth=4, max_leaf_nodes=2, min_samples_split=12;, score=0.720 total time=   0.0s\n",
      "[CV 2/3; 20/80] START max_depth=4, max_leaf_nodes=2, min_samples_split=12.......\n",
      "[CV 2/3; 20/80] END max_depth=4, max_leaf_nodes=2, min_samples_split=12;, score=0.667 total time=   0.0s\n",
      "[CV 3/3; 20/80] START max_depth=4, max_leaf_nodes=2, min_samples_split=12.......\n",
      "[CV 3/3; 20/80] END max_depth=4, max_leaf_nodes=2, min_samples_split=12;, score=0.730 total time=   0.0s\n",
      "[CV 1/3; 21/80] START max_depth=4, max_leaf_nodes=8, min_samples_split=12.......\n",
      "[CV 1/3; 21/80] END max_depth=4, max_leaf_nodes=8, min_samples_split=12;, score=0.722 total time=   0.0s\n",
      "[CV 2/3; 21/80] START max_depth=4, max_leaf_nodes=8, min_samples_split=12.......\n",
      "[CV 2/3; 21/80] END max_depth=4, max_leaf_nodes=8, min_samples_split=12;, score=0.671 total time=   0.0s\n",
      "[CV 3/3; 21/80] START max_depth=4, max_leaf_nodes=8, min_samples_split=12.......\n",
      "[CV 3/3; 21/80] END max_depth=4, max_leaf_nodes=8, min_samples_split=12;, score=0.722 total time=   0.0s\n",
      "[CV 1/3; 22/80] START max_depth=4, max_leaf_nodes=8, min_samples_split=18.......\n",
      "[CV 1/3; 22/80] END max_depth=4, max_leaf_nodes=8, min_samples_split=18;, score=0.722 total time=   0.0s\n",
      "[CV 2/3; 22/80] START max_depth=4, max_leaf_nodes=8, min_samples_split=18.......\n",
      "[CV 2/3; 22/80] END max_depth=4, max_leaf_nodes=8, min_samples_split=18;, score=0.671 total time=   0.0s\n",
      "[CV 3/3; 22/80] START max_depth=4, max_leaf_nodes=8, min_samples_split=18.......\n",
      "[CV 3/3; 22/80] END max_depth=4, max_leaf_nodes=8, min_samples_split=18;, score=0.722 total time=   0.0s\n",
      "[CV 1/3; 23/80] START max_depth=4, max_leaf_nodes=8, min_samples_split=20.......\n",
      "[CV 1/3; 23/80] END max_depth=4, max_leaf_nodes=8, min_samples_split=20;, score=0.722 total time=   0.0s\n",
      "[CV 2/3; 23/80] START max_depth=4, max_leaf_nodes=8, min_samples_split=20.......\n",
      "[CV 2/3; 23/80] END max_depth=4, max_leaf_nodes=8, min_samples_split=20;, score=0.671 total time=   0.0s\n",
      "[CV 3/3; 23/80] START max_depth=4, max_leaf_nodes=8, min_samples_split=20.......\n",
      "[CV 3/3; 23/80] END max_depth=4, max_leaf_nodes=8, min_samples_split=20;, score=0.722 total time=   0.0s\n",
      "[CV 1/3; 24/80] START max_depth=4, max_leaf_nodes=8, min_samples_split=12.......\n",
      "[CV 1/3; 24/80] END max_depth=4, max_leaf_nodes=8, min_samples_split=12;, score=0.722 total time=   0.0s\n",
      "[CV 2/3; 24/80] START max_depth=4, max_leaf_nodes=8, min_samples_split=12.......\n",
      "[CV 2/3; 24/80] END max_depth=4, max_leaf_nodes=8, min_samples_split=12;, score=0.671 total time=   0.0s\n",
      "[CV 3/3; 24/80] START max_depth=4, max_leaf_nodes=8, min_samples_split=12.......\n",
      "[CV 3/3; 24/80] END max_depth=4, max_leaf_nodes=8, min_samples_split=12;, score=0.722 total time=   0.0s\n",
      "[CV 1/3; 25/80] START max_depth=4, max_leaf_nodes=10, min_samples_split=12......\n",
      "[CV 1/3; 25/80] END max_depth=4, max_leaf_nodes=10, min_samples_split=12;, score=0.704 total time=   0.0s\n",
      "[CV 2/3; 25/80] START max_depth=4, max_leaf_nodes=10, min_samples_split=12......\n",
      "[CV 2/3; 25/80] END max_depth=4, max_leaf_nodes=10, min_samples_split=12;, score=0.686 total time=   0.0s\n",
      "[CV 3/3; 25/80] START max_depth=4, max_leaf_nodes=10, min_samples_split=12......\n",
      "[CV 3/3; 25/80] END max_depth=4, max_leaf_nodes=10, min_samples_split=12;, score=0.735 total time=   0.0s\n",
      "[CV 1/3; 26/80] START max_depth=4, max_leaf_nodes=10, min_samples_split=18......\n",
      "[CV 1/3; 26/80] END max_depth=4, max_leaf_nodes=10, min_samples_split=18;, score=0.704 total time=   0.0s\n",
      "[CV 2/3; 26/80] START max_depth=4, max_leaf_nodes=10, min_samples_split=18......\n",
      "[CV 2/3; 26/80] END max_depth=4, max_leaf_nodes=10, min_samples_split=18;, score=0.686 total time=   0.0s\n",
      "[CV 3/3; 26/80] START max_depth=4, max_leaf_nodes=10, min_samples_split=18......\n",
      "[CV 3/3; 26/80] END max_depth=4, max_leaf_nodes=10, min_samples_split=18;, score=0.722 total time=   0.0s\n",
      "[CV 1/3; 27/80] START max_depth=4, max_leaf_nodes=10, min_samples_split=20......\n",
      "[CV 1/3; 27/80] END max_depth=4, max_leaf_nodes=10, min_samples_split=20;, score=0.704 total time=   0.0s\n",
      "[CV 2/3; 27/80] START max_depth=4, max_leaf_nodes=10, min_samples_split=20......\n",
      "[CV 2/3; 27/80] END max_depth=4, max_leaf_nodes=10, min_samples_split=20;, score=0.686 total time=   0.0s\n",
      "[CV 3/3; 27/80] START max_depth=4, max_leaf_nodes=10, min_samples_split=20......\n",
      "[CV 3/3; 27/80] END max_depth=4, max_leaf_nodes=10, min_samples_split=20;, score=0.722 total time=   0.0s\n",
      "[CV 1/3; 28/80] START max_depth=4, max_leaf_nodes=10, min_samples_split=12......\n",
      "[CV 1/3; 28/80] END max_depth=4, max_leaf_nodes=10, min_samples_split=12;, score=0.704 total time=   0.0s\n",
      "[CV 2/3; 28/80] START max_depth=4, max_leaf_nodes=10, min_samples_split=12......\n",
      "[CV 2/3; 28/80] END max_depth=4, max_leaf_nodes=10, min_samples_split=12;, score=0.686 total time=   0.0s\n",
      "[CV 3/3; 28/80] START max_depth=4, max_leaf_nodes=10, min_samples_split=12......\n",
      "[CV 3/3; 28/80] END max_depth=4, max_leaf_nodes=10, min_samples_split=12;, score=0.735 total time=   0.0s\n",
      "[CV 1/3; 29/80] START max_depth=4, max_leaf_nodes=12, min_samples_split=12......\n",
      "[CV 1/3; 29/80] END max_depth=4, max_leaf_nodes=12, min_samples_split=12;, score=0.707 total time=   0.0s\n",
      "[CV 2/3; 29/80] START max_depth=4, max_leaf_nodes=12, min_samples_split=12......\n",
      "[CV 2/3; 29/80] END max_depth=4, max_leaf_nodes=12, min_samples_split=12;, score=0.652 total time=   0.0s\n",
      "[CV 3/3; 29/80] START max_depth=4, max_leaf_nodes=12, min_samples_split=12......\n",
      "[CV 3/3; 29/80] END max_depth=4, max_leaf_nodes=12, min_samples_split=12;, score=0.759 total time=   0.0s\n",
      "[CV 1/3; 30/80] START max_depth=4, max_leaf_nodes=12, min_samples_split=18......\n",
      "[CV 1/3; 30/80] END max_depth=4, max_leaf_nodes=12, min_samples_split=18;, score=0.707 total time=   0.0s\n",
      "[CV 2/3; 30/80] START max_depth=4, max_leaf_nodes=12, min_samples_split=18......\n",
      "[CV 2/3; 30/80] END max_depth=4, max_leaf_nodes=12, min_samples_split=18;, score=0.652 total time=   0.0s\n",
      "[CV 3/3; 30/80] START max_depth=4, max_leaf_nodes=12, min_samples_split=18......\n",
      "[CV 3/3; 30/80] END max_depth=4, max_leaf_nodes=12, min_samples_split=18;, score=0.722 total time=   0.0s\n",
      "[CV 1/3; 31/80] START max_depth=4, max_leaf_nodes=12, min_samples_split=20......\n",
      "[CV 1/3; 31/80] END max_depth=4, max_leaf_nodes=12, min_samples_split=20;, score=0.707 total time=   0.0s\n",
      "[CV 2/3; 31/80] START max_depth=4, max_leaf_nodes=12, min_samples_split=20......\n",
      "[CV 2/3; 31/80] END max_depth=4, max_leaf_nodes=12, min_samples_split=20;, score=0.652 total time=   0.0s\n",
      "[CV 3/3; 31/80] START max_depth=4, max_leaf_nodes=12, min_samples_split=20......\n",
      "[CV 3/3; 31/80] END max_depth=4, max_leaf_nodes=12, min_samples_split=20;, score=0.722 total time=   0.0s\n",
      "[CV 1/3; 32/80] START max_depth=4, max_leaf_nodes=12, min_samples_split=12......\n",
      "[CV 1/3; 32/80] END max_depth=4, max_leaf_nodes=12, min_samples_split=12;, score=0.707 total time=   0.0s\n",
      "[CV 2/3; 32/80] START max_depth=4, max_leaf_nodes=12, min_samples_split=12......\n",
      "[CV 2/3; 32/80] END max_depth=4, max_leaf_nodes=12, min_samples_split=12;, score=0.652 total time=   0.0s\n",
      "[CV 3/3; 32/80] START max_depth=4, max_leaf_nodes=12, min_samples_split=12......\n",
      "[CV 3/3; 32/80] END max_depth=4, max_leaf_nodes=12, min_samples_split=12;, score=0.759 total time=   0.0s\n",
      "[CV 1/3; 33/80] START max_depth=6, max_leaf_nodes=2, min_samples_split=12.......\n",
      "[CV 1/3; 33/80] END max_depth=6, max_leaf_nodes=2, min_samples_split=12;, score=0.720 total time=   0.0s\n",
      "[CV 2/3; 33/80] START max_depth=6, max_leaf_nodes=2, min_samples_split=12.......\n"
     ]
    },
    {
     "name": "stdout",
     "output_type": "stream",
     "text": [
      "[CV 2/3; 33/80] END max_depth=6, max_leaf_nodes=2, min_samples_split=12;, score=0.667 total time=   0.0s\n",
      "[CV 3/3; 33/80] START max_depth=6, max_leaf_nodes=2, min_samples_split=12.......\n",
      "[CV 3/3; 33/80] END max_depth=6, max_leaf_nodes=2, min_samples_split=12;, score=0.730 total time=   0.0s\n",
      "[CV 1/3; 34/80] START max_depth=6, max_leaf_nodes=2, min_samples_split=18.......\n",
      "[CV 1/3; 34/80] END max_depth=6, max_leaf_nodes=2, min_samples_split=18;, score=0.720 total time=   0.0s\n",
      "[CV 2/3; 34/80] START max_depth=6, max_leaf_nodes=2, min_samples_split=18.......\n",
      "[CV 2/3; 34/80] END max_depth=6, max_leaf_nodes=2, min_samples_split=18;, score=0.667 total time=   0.0s\n",
      "[CV 3/3; 34/80] START max_depth=6, max_leaf_nodes=2, min_samples_split=18.......\n",
      "[CV 3/3; 34/80] END max_depth=6, max_leaf_nodes=2, min_samples_split=18;, score=0.730 total time=   0.0s\n",
      "[CV 1/3; 35/80] START max_depth=6, max_leaf_nodes=2, min_samples_split=20.......\n",
      "[CV 1/3; 35/80] END max_depth=6, max_leaf_nodes=2, min_samples_split=20;, score=0.720 total time=   0.0s\n",
      "[CV 2/3; 35/80] START max_depth=6, max_leaf_nodes=2, min_samples_split=20.......\n",
      "[CV 2/3; 35/80] END max_depth=6, max_leaf_nodes=2, min_samples_split=20;, score=0.667 total time=   0.0s\n",
      "[CV 3/3; 35/80] START max_depth=6, max_leaf_nodes=2, min_samples_split=20.......\n",
      "[CV 3/3; 35/80] END max_depth=6, max_leaf_nodes=2, min_samples_split=20;, score=0.730 total time=   0.0s\n",
      "[CV 1/3; 36/80] START max_depth=6, max_leaf_nodes=2, min_samples_split=12.......\n",
      "[CV 1/3; 36/80] END max_depth=6, max_leaf_nodes=2, min_samples_split=12;, score=0.720 total time=   0.0s\n",
      "[CV 2/3; 36/80] START max_depth=6, max_leaf_nodes=2, min_samples_split=12.......\n",
      "[CV 2/3; 36/80] END max_depth=6, max_leaf_nodes=2, min_samples_split=12;, score=0.667 total time=   0.0s\n",
      "[CV 3/3; 36/80] START max_depth=6, max_leaf_nodes=2, min_samples_split=12.......\n",
      "[CV 3/3; 36/80] END max_depth=6, max_leaf_nodes=2, min_samples_split=12;, score=0.730 total time=   0.0s\n",
      "[CV 1/3; 37/80] START max_depth=6, max_leaf_nodes=8, min_samples_split=12.......\n",
      "[CV 1/3; 37/80] END max_depth=6, max_leaf_nodes=8, min_samples_split=12;, score=0.722 total time=   0.0s\n",
      "[CV 2/3; 37/80] START max_depth=6, max_leaf_nodes=8, min_samples_split=12.......\n",
      "[CV 2/3; 37/80] END max_depth=6, max_leaf_nodes=8, min_samples_split=12;, score=0.671 total time=   0.0s\n",
      "[CV 3/3; 37/80] START max_depth=6, max_leaf_nodes=8, min_samples_split=12.......\n",
      "[CV 3/3; 37/80] END max_depth=6, max_leaf_nodes=8, min_samples_split=12;, score=0.656 total time=   0.0s\n",
      "[CV 1/3; 38/80] START max_depth=6, max_leaf_nodes=8, min_samples_split=18.......\n",
      "[CV 1/3; 38/80] END max_depth=6, max_leaf_nodes=8, min_samples_split=18;, score=0.722 total time=   0.0s\n",
      "[CV 2/3; 38/80] START max_depth=6, max_leaf_nodes=8, min_samples_split=18.......\n",
      "[CV 2/3; 38/80] END max_depth=6, max_leaf_nodes=8, min_samples_split=18;, score=0.671 total time=   0.0s\n",
      "[CV 3/3; 38/80] START max_depth=6, max_leaf_nodes=8, min_samples_split=18.......\n",
      "[CV 3/3; 38/80] END max_depth=6, max_leaf_nodes=8, min_samples_split=18;, score=0.656 total time=   0.0s\n",
      "[CV 1/3; 39/80] START max_depth=6, max_leaf_nodes=8, min_samples_split=20.......\n",
      "[CV 1/3; 39/80] END max_depth=6, max_leaf_nodes=8, min_samples_split=20;, score=0.722 total time=   0.0s\n",
      "[CV 2/3; 39/80] START max_depth=6, max_leaf_nodes=8, min_samples_split=20.......\n",
      "[CV 2/3; 39/80] END max_depth=6, max_leaf_nodes=8, min_samples_split=20;, score=0.671 total time=   0.0s\n",
      "[CV 3/3; 39/80] START max_depth=6, max_leaf_nodes=8, min_samples_split=20.......\n",
      "[CV 3/3; 39/80] END max_depth=6, max_leaf_nodes=8, min_samples_split=20;, score=0.656 total time=   0.0s\n",
      "[CV 1/3; 40/80] START max_depth=6, max_leaf_nodes=8, min_samples_split=12.......\n",
      "[CV 1/3; 40/80] END max_depth=6, max_leaf_nodes=8, min_samples_split=12;, score=0.722 total time=   0.0s\n",
      "[CV 2/3; 40/80] START max_depth=6, max_leaf_nodes=8, min_samples_split=12.......\n",
      "[CV 2/3; 40/80] END max_depth=6, max_leaf_nodes=8, min_samples_split=12;, score=0.671 total time=   0.0s\n",
      "[CV 3/3; 40/80] START max_depth=6, max_leaf_nodes=8, min_samples_split=12.......\n",
      "[CV 3/3; 40/80] END max_depth=6, max_leaf_nodes=8, min_samples_split=12;, score=0.656 total time=   0.0s\n",
      "[CV 1/3; 41/80] START max_depth=6, max_leaf_nodes=10, min_samples_split=12......\n",
      "[CV 1/3; 41/80] END max_depth=6, max_leaf_nodes=10, min_samples_split=12;, score=0.704 total time=   0.0s\n",
      "[CV 2/3; 41/80] START max_depth=6, max_leaf_nodes=10, min_samples_split=12......\n",
      "[CV 2/3; 41/80] END max_depth=6, max_leaf_nodes=10, min_samples_split=12;, score=0.686 total time=   0.0s\n",
      "[CV 3/3; 41/80] START max_depth=6, max_leaf_nodes=10, min_samples_split=12......\n",
      "[CV 3/3; 41/80] END max_depth=6, max_leaf_nodes=10, min_samples_split=12;, score=0.677 total time=   0.0s\n",
      "[CV 1/3; 42/80] START max_depth=6, max_leaf_nodes=10, min_samples_split=18......\n",
      "[CV 1/3; 42/80] END max_depth=6, max_leaf_nodes=10, min_samples_split=18;, score=0.704 total time=   0.0s\n",
      "[CV 2/3; 42/80] START max_depth=6, max_leaf_nodes=10, min_samples_split=18......\n",
      "[CV 2/3; 42/80] END max_depth=6, max_leaf_nodes=10, min_samples_split=18;, score=0.686 total time=   0.0s\n",
      "[CV 3/3; 42/80] START max_depth=6, max_leaf_nodes=10, min_samples_split=18......\n",
      "[CV 3/3; 42/80] END max_depth=6, max_leaf_nodes=10, min_samples_split=18;, score=0.662 total time=   0.0s\n",
      "[CV 1/3; 43/80] START max_depth=6, max_leaf_nodes=10, min_samples_split=20......\n",
      "[CV 1/3; 43/80] END max_depth=6, max_leaf_nodes=10, min_samples_split=20;, score=0.704 total time=   0.0s\n",
      "[CV 2/3; 43/80] START max_depth=6, max_leaf_nodes=10, min_samples_split=20......\n",
      "[CV 2/3; 43/80] END max_depth=6, max_leaf_nodes=10, min_samples_split=20;, score=0.686 total time=   0.0s\n",
      "[CV 3/3; 43/80] START max_depth=6, max_leaf_nodes=10, min_samples_split=20......\n",
      "[CV 3/3; 43/80] END max_depth=6, max_leaf_nodes=10, min_samples_split=20;, score=0.662 total time=   0.0s\n",
      "[CV 1/3; 44/80] START max_depth=6, max_leaf_nodes=10, min_samples_split=12......\n",
      "[CV 1/3; 44/80] END max_depth=6, max_leaf_nodes=10, min_samples_split=12;, score=0.704 total time=   0.0s\n",
      "[CV 2/3; 44/80] START max_depth=6, max_leaf_nodes=10, min_samples_split=12......\n",
      "[CV 2/3; 44/80] END max_depth=6, max_leaf_nodes=10, min_samples_split=12;, score=0.686 total time=   0.0s\n",
      "[CV 3/3; 44/80] START max_depth=6, max_leaf_nodes=10, min_samples_split=12......\n",
      "[CV 3/3; 44/80] END max_depth=6, max_leaf_nodes=10, min_samples_split=12;, score=0.677 total time=   0.0s\n",
      "[CV 1/3; 45/80] START max_depth=6, max_leaf_nodes=12, min_samples_split=12......\n",
      "[CV 1/3; 45/80] END max_depth=6, max_leaf_nodes=12, min_samples_split=12;, score=0.726 total time=   0.0s\n",
      "[CV 2/3; 45/80] START max_depth=6, max_leaf_nodes=12, min_samples_split=12......\n",
      "[CV 2/3; 45/80] END max_depth=6, max_leaf_nodes=12, min_samples_split=12;, score=0.686 total time=   0.0s\n",
      "[CV 3/3; 45/80] START max_depth=6, max_leaf_nodes=12, min_samples_split=12......\n",
      "[CV 3/3; 45/80] END max_depth=6, max_leaf_nodes=12, min_samples_split=12;, score=0.685 total time=   0.0s\n",
      "[CV 1/3; 46/80] START max_depth=6, max_leaf_nodes=12, min_samples_split=18......\n",
      "[CV 1/3; 46/80] END max_depth=6, max_leaf_nodes=12, min_samples_split=18;, score=0.726 total time=   0.0s\n",
      "[CV 2/3; 46/80] START max_depth=6, max_leaf_nodes=12, min_samples_split=18......\n",
      "[CV 2/3; 46/80] END max_depth=6, max_leaf_nodes=12, min_samples_split=18;, score=0.686 total time=   0.0s\n",
      "[CV 3/3; 46/80] START max_depth=6, max_leaf_nodes=12, min_samples_split=18......\n",
      "[CV 3/3; 46/80] END max_depth=6, max_leaf_nodes=12, min_samples_split=18;, score=0.671 total time=   0.0s\n",
      "[CV 1/3; 47/80] START max_depth=6, max_leaf_nodes=12, min_samples_split=20......\n",
      "[CV 1/3; 47/80] END max_depth=6, max_leaf_nodes=12, min_samples_split=20;, score=0.726 total time=   0.0s\n",
      "[CV 2/3; 47/80] START max_depth=6, max_leaf_nodes=12, min_samples_split=20......\n",
      "[CV 2/3; 47/80] END max_depth=6, max_leaf_nodes=12, min_samples_split=20;, score=0.686 total time=   0.0s\n",
      "[CV 3/3; 47/80] START max_depth=6, max_leaf_nodes=12, min_samples_split=20......\n",
      "[CV 3/3; 47/80] END max_depth=6, max_leaf_nodes=12, min_samples_split=20;, score=0.671 total time=   0.0s\n",
      "[CV 1/3; 48/80] START max_depth=6, max_leaf_nodes=12, min_samples_split=12......\n",
      "[CV 1/3; 48/80] END max_depth=6, max_leaf_nodes=12, min_samples_split=12;, score=0.726 total time=   0.0s\n",
      "[CV 2/3; 48/80] START max_depth=6, max_leaf_nodes=12, min_samples_split=12......\n",
      "[CV 2/3; 48/80] END max_depth=6, max_leaf_nodes=12, min_samples_split=12;, score=0.686 total time=   0.0s\n",
      "[CV 3/3; 48/80] START max_depth=6, max_leaf_nodes=12, min_samples_split=12......\n",
      "[CV 3/3; 48/80] END max_depth=6, max_leaf_nodes=12, min_samples_split=12;, score=0.685 total time=   0.0s\n"
     ]
    },
    {
     "name": "stdout",
     "output_type": "stream",
     "text": [
      "[CV 1/3; 49/80] START max_depth=8, max_leaf_nodes=2, min_samples_split=12.......\n",
      "[CV 1/3; 49/80] END max_depth=8, max_leaf_nodes=2, min_samples_split=12;, score=0.720 total time=   0.0s\n",
      "[CV 2/3; 49/80] START max_depth=8, max_leaf_nodes=2, min_samples_split=12.......\n",
      "[CV 2/3; 49/80] END max_depth=8, max_leaf_nodes=2, min_samples_split=12;, score=0.667 total time=   0.0s\n",
      "[CV 3/3; 49/80] START max_depth=8, max_leaf_nodes=2, min_samples_split=12.......\n",
      "[CV 3/3; 49/80] END max_depth=8, max_leaf_nodes=2, min_samples_split=12;, score=0.730 total time=   0.0s\n",
      "[CV 1/3; 50/80] START max_depth=8, max_leaf_nodes=2, min_samples_split=18.......\n",
      "[CV 1/3; 50/80] END max_depth=8, max_leaf_nodes=2, min_samples_split=18;, score=0.720 total time=   0.0s\n",
      "[CV 2/3; 50/80] START max_depth=8, max_leaf_nodes=2, min_samples_split=18.......\n",
      "[CV 2/3; 50/80] END max_depth=8, max_leaf_nodes=2, min_samples_split=18;, score=0.667 total time=   0.0s\n",
      "[CV 3/3; 50/80] START max_depth=8, max_leaf_nodes=2, min_samples_split=18.......\n",
      "[CV 3/3; 50/80] END max_depth=8, max_leaf_nodes=2, min_samples_split=18;, score=0.730 total time=   0.0s\n",
      "[CV 1/3; 51/80] START max_depth=8, max_leaf_nodes=2, min_samples_split=20.......\n",
      "[CV 1/3; 51/80] END max_depth=8, max_leaf_nodes=2, min_samples_split=20;, score=0.720 total time=   0.0s\n",
      "[CV 2/3; 51/80] START max_depth=8, max_leaf_nodes=2, min_samples_split=20.......\n",
      "[CV 2/3; 51/80] END max_depth=8, max_leaf_nodes=2, min_samples_split=20;, score=0.667 total time=   0.0s\n",
      "[CV 3/3; 51/80] START max_depth=8, max_leaf_nodes=2, min_samples_split=20.......\n",
      "[CV 3/3; 51/80] END max_depth=8, max_leaf_nodes=2, min_samples_split=20;, score=0.730 total time=   0.0s\n",
      "[CV 1/3; 52/80] START max_depth=8, max_leaf_nodes=2, min_samples_split=12.......\n",
      "[CV 1/3; 52/80] END max_depth=8, max_leaf_nodes=2, min_samples_split=12;, score=0.720 total time=   0.0s\n",
      "[CV 2/3; 52/80] START max_depth=8, max_leaf_nodes=2, min_samples_split=12.......\n",
      "[CV 2/3; 52/80] END max_depth=8, max_leaf_nodes=2, min_samples_split=12;, score=0.667 total time=   0.0s\n",
      "[CV 3/3; 52/80] START max_depth=8, max_leaf_nodes=2, min_samples_split=12.......\n",
      "[CV 3/3; 52/80] END max_depth=8, max_leaf_nodes=2, min_samples_split=12;, score=0.730 total time=   0.0s\n",
      "[CV 1/3; 53/80] START max_depth=8, max_leaf_nodes=8, min_samples_split=12.......\n",
      "[CV 1/3; 53/80] END max_depth=8, max_leaf_nodes=8, min_samples_split=12;, score=0.722 total time=   0.0s\n",
      "[CV 2/3; 53/80] START max_depth=8, max_leaf_nodes=8, min_samples_split=12.......\n",
      "[CV 2/3; 53/80] END max_depth=8, max_leaf_nodes=8, min_samples_split=12;, score=0.671 total time=   0.0s\n",
      "[CV 3/3; 53/80] START max_depth=8, max_leaf_nodes=8, min_samples_split=12.......\n",
      "[CV 3/3; 53/80] END max_depth=8, max_leaf_nodes=8, min_samples_split=12;, score=0.656 total time=   0.0s\n",
      "[CV 1/3; 54/80] START max_depth=8, max_leaf_nodes=8, min_samples_split=18.......\n",
      "[CV 1/3; 54/80] END max_depth=8, max_leaf_nodes=8, min_samples_split=18;, score=0.722 total time=   0.0s\n",
      "[CV 2/3; 54/80] START max_depth=8, max_leaf_nodes=8, min_samples_split=18.......\n",
      "[CV 2/3; 54/80] END max_depth=8, max_leaf_nodes=8, min_samples_split=18;, score=0.671 total time=   0.0s\n",
      "[CV 3/3; 54/80] START max_depth=8, max_leaf_nodes=8, min_samples_split=18.......\n",
      "[CV 3/3; 54/80] END max_depth=8, max_leaf_nodes=8, min_samples_split=18;, score=0.656 total time=   0.0s\n",
      "[CV 1/3; 55/80] START max_depth=8, max_leaf_nodes=8, min_samples_split=20.......\n",
      "[CV 1/3; 55/80] END max_depth=8, max_leaf_nodes=8, min_samples_split=20;, score=0.722 total time=   0.0s\n",
      "[CV 2/3; 55/80] START max_depth=8, max_leaf_nodes=8, min_samples_split=20.......\n",
      "[CV 2/3; 55/80] END max_depth=8, max_leaf_nodes=8, min_samples_split=20;, score=0.671 total time=   0.0s\n",
      "[CV 3/3; 55/80] START max_depth=8, max_leaf_nodes=8, min_samples_split=20.......\n",
      "[CV 3/3; 55/80] END max_depth=8, max_leaf_nodes=8, min_samples_split=20;, score=0.656 total time=   0.0s\n",
      "[CV 1/3; 56/80] START max_depth=8, max_leaf_nodes=8, min_samples_split=12.......\n",
      "[CV 1/3; 56/80] END max_depth=8, max_leaf_nodes=8, min_samples_split=12;, score=0.722 total time=   0.0s\n",
      "[CV 2/3; 56/80] START max_depth=8, max_leaf_nodes=8, min_samples_split=12.......\n",
      "[CV 2/3; 56/80] END max_depth=8, max_leaf_nodes=8, min_samples_split=12;, score=0.671 total time=   0.0s\n",
      "[CV 3/3; 56/80] START max_depth=8, max_leaf_nodes=8, min_samples_split=12.......\n",
      "[CV 3/3; 56/80] END max_depth=8, max_leaf_nodes=8, min_samples_split=12;, score=0.656 total time=   0.0s\n",
      "[CV 1/3; 57/80] START max_depth=8, max_leaf_nodes=10, min_samples_split=12......\n",
      "[CV 1/3; 57/80] END max_depth=8, max_leaf_nodes=10, min_samples_split=12;, score=0.704 total time=   0.0s\n",
      "[CV 2/3; 57/80] START max_depth=8, max_leaf_nodes=10, min_samples_split=12......\n",
      "[CV 2/3; 57/80] END max_depth=8, max_leaf_nodes=10, min_samples_split=12;, score=0.686 total time=   0.0s\n",
      "[CV 3/3; 57/80] START max_depth=8, max_leaf_nodes=10, min_samples_split=12......\n",
      "[CV 3/3; 57/80] END max_depth=8, max_leaf_nodes=10, min_samples_split=12;, score=0.677 total time=   0.0s\n",
      "[CV 1/3; 58/80] START max_depth=8, max_leaf_nodes=10, min_samples_split=18......\n",
      "[CV 1/3; 58/80] END max_depth=8, max_leaf_nodes=10, min_samples_split=18;, score=0.704 total time=   0.0s\n",
      "[CV 2/3; 58/80] START max_depth=8, max_leaf_nodes=10, min_samples_split=18......\n",
      "[CV 2/3; 58/80] END max_depth=8, max_leaf_nodes=10, min_samples_split=18;, score=0.686 total time=   0.0s\n",
      "[CV 3/3; 58/80] START max_depth=8, max_leaf_nodes=10, min_samples_split=18......\n",
      "[CV 3/3; 58/80] END max_depth=8, max_leaf_nodes=10, min_samples_split=18;, score=0.662 total time=   0.0s\n",
      "[CV 1/3; 59/80] START max_depth=8, max_leaf_nodes=10, min_samples_split=20......\n",
      "[CV 1/3; 59/80] END max_depth=8, max_leaf_nodes=10, min_samples_split=20;, score=0.704 total time=   0.0s\n",
      "[CV 2/3; 59/80] START max_depth=8, max_leaf_nodes=10, min_samples_split=20......\n",
      "[CV 2/3; 59/80] END max_depth=8, max_leaf_nodes=10, min_samples_split=20;, score=0.686 total time=   0.0s\n",
      "[CV 3/3; 59/80] START max_depth=8, max_leaf_nodes=10, min_samples_split=20......\n",
      "[CV 3/3; 59/80] END max_depth=8, max_leaf_nodes=10, min_samples_split=20;, score=0.662 total time=   0.0s\n",
      "[CV 1/3; 60/80] START max_depth=8, max_leaf_nodes=10, min_samples_split=12......\n",
      "[CV 1/3; 60/80] END max_depth=8, max_leaf_nodes=10, min_samples_split=12;, score=0.704 total time=   0.0s\n",
      "[CV 2/3; 60/80] START max_depth=8, max_leaf_nodes=10, min_samples_split=12......\n",
      "[CV 2/3; 60/80] END max_depth=8, max_leaf_nodes=10, min_samples_split=12;, score=0.686 total time=   0.0s\n",
      "[CV 3/3; 60/80] START max_depth=8, max_leaf_nodes=10, min_samples_split=12......\n",
      "[CV 3/3; 60/80] END max_depth=8, max_leaf_nodes=10, min_samples_split=12;, score=0.677 total time=   0.0s\n",
      "[CV 1/3; 61/80] START max_depth=8, max_leaf_nodes=12, min_samples_split=12......\n",
      "[CV 1/3; 61/80] END max_depth=8, max_leaf_nodes=12, min_samples_split=12;, score=0.726 total time=   0.0s\n",
      "[CV 2/3; 61/80] START max_depth=8, max_leaf_nodes=12, min_samples_split=12......\n",
      "[CV 2/3; 61/80] END max_depth=8, max_leaf_nodes=12, min_samples_split=12;, score=0.686 total time=   0.0s\n",
      "[CV 3/3; 61/80] START max_depth=8, max_leaf_nodes=12, min_samples_split=12......\n",
      "[CV 3/3; 61/80] END max_depth=8, max_leaf_nodes=12, min_samples_split=12;, score=0.685 total time=   0.0s\n",
      "[CV 1/3; 62/80] START max_depth=8, max_leaf_nodes=12, min_samples_split=18......\n",
      "[CV 1/3; 62/80] END max_depth=8, max_leaf_nodes=12, min_samples_split=18;, score=0.726 total time=   0.0s\n",
      "[CV 2/3; 62/80] START max_depth=8, max_leaf_nodes=12, min_samples_split=18......\n",
      "[CV 2/3; 62/80] END max_depth=8, max_leaf_nodes=12, min_samples_split=18;, score=0.686 total time=   0.0s\n",
      "[CV 3/3; 62/80] START max_depth=8, max_leaf_nodes=12, min_samples_split=18......\n",
      "[CV 3/3; 62/80] END max_depth=8, max_leaf_nodes=12, min_samples_split=18;, score=0.671 total time=   0.0s\n",
      "[CV 1/3; 63/80] START max_depth=8, max_leaf_nodes=12, min_samples_split=20......\n",
      "[CV 1/3; 63/80] END max_depth=8, max_leaf_nodes=12, min_samples_split=20;, score=0.726 total time=   0.0s\n",
      "[CV 2/3; 63/80] START max_depth=8, max_leaf_nodes=12, min_samples_split=20......\n",
      "[CV 2/3; 63/80] END max_depth=8, max_leaf_nodes=12, min_samples_split=20;, score=0.686 total time=   0.0s\n",
      "[CV 3/3; 63/80] START max_depth=8, max_leaf_nodes=12, min_samples_split=20......\n",
      "[CV 3/3; 63/80] END max_depth=8, max_leaf_nodes=12, min_samples_split=20;, score=0.671 total time=   0.0s\n",
      "[CV 1/3; 64/80] START max_depth=8, max_leaf_nodes=12, min_samples_split=12......\n",
      "[CV 1/3; 64/80] END max_depth=8, max_leaf_nodes=12, min_samples_split=12;, score=0.726 total time=   0.0s\n",
      "[CV 2/3; 64/80] START max_depth=8, max_leaf_nodes=12, min_samples_split=12......\n",
      "[CV 2/3; 64/80] END max_depth=8, max_leaf_nodes=12, min_samples_split=12;, score=0.686 total time=   0.0s\n",
      "[CV 3/3; 64/80] START max_depth=8, max_leaf_nodes=12, min_samples_split=12......\n",
      "[CV 3/3; 64/80] END max_depth=8, max_leaf_nodes=12, min_samples_split=12;, score=0.685 total time=   0.0s\n"
     ]
    },
    {
     "name": "stdout",
     "output_type": "stream",
     "text": [
      "[CV 1/3; 65/80] START max_depth=12, max_leaf_nodes=2, min_samples_split=12......\n",
      "[CV 1/3; 65/80] END max_depth=12, max_leaf_nodes=2, min_samples_split=12;, score=0.720 total time=   0.0s\n",
      "[CV 2/3; 65/80] START max_depth=12, max_leaf_nodes=2, min_samples_split=12......\n",
      "[CV 2/3; 65/80] END max_depth=12, max_leaf_nodes=2, min_samples_split=12;, score=0.667 total time=   0.0s\n",
      "[CV 3/3; 65/80] START max_depth=12, max_leaf_nodes=2, min_samples_split=12......\n",
      "[CV 3/3; 65/80] END max_depth=12, max_leaf_nodes=2, min_samples_split=12;, score=0.730 total time=   0.0s\n",
      "[CV 1/3; 66/80] START max_depth=12, max_leaf_nodes=2, min_samples_split=18......\n",
      "[CV 1/3; 66/80] END max_depth=12, max_leaf_nodes=2, min_samples_split=18;, score=0.720 total time=   0.0s\n",
      "[CV 2/3; 66/80] START max_depth=12, max_leaf_nodes=2, min_samples_split=18......\n",
      "[CV 2/3; 66/80] END max_depth=12, max_leaf_nodes=2, min_samples_split=18;, score=0.667 total time=   0.0s\n",
      "[CV 3/3; 66/80] START max_depth=12, max_leaf_nodes=2, min_samples_split=18......\n",
      "[CV 3/3; 66/80] END max_depth=12, max_leaf_nodes=2, min_samples_split=18;, score=0.730 total time=   0.0s\n",
      "[CV 1/3; 67/80] START max_depth=12, max_leaf_nodes=2, min_samples_split=20......\n",
      "[CV 1/3; 67/80] END max_depth=12, max_leaf_nodes=2, min_samples_split=20;, score=0.720 total time=   0.0s\n",
      "[CV 2/3; 67/80] START max_depth=12, max_leaf_nodes=2, min_samples_split=20......\n",
      "[CV 2/3; 67/80] END max_depth=12, max_leaf_nodes=2, min_samples_split=20;, score=0.667 total time=   0.0s\n",
      "[CV 3/3; 67/80] START max_depth=12, max_leaf_nodes=2, min_samples_split=20......\n",
      "[CV 3/3; 67/80] END max_depth=12, max_leaf_nodes=2, min_samples_split=20;, score=0.730 total time=   0.0s\n",
      "[CV 1/3; 68/80] START max_depth=12, max_leaf_nodes=2, min_samples_split=12......\n",
      "[CV 1/3; 68/80] END max_depth=12, max_leaf_nodes=2, min_samples_split=12;, score=0.720 total time=   0.0s\n",
      "[CV 2/3; 68/80] START max_depth=12, max_leaf_nodes=2, min_samples_split=12......\n",
      "[CV 2/3; 68/80] END max_depth=12, max_leaf_nodes=2, min_samples_split=12;, score=0.667 total time=   0.0s\n",
      "[CV 3/3; 68/80] START max_depth=12, max_leaf_nodes=2, min_samples_split=12......\n",
      "[CV 3/3; 68/80] END max_depth=12, max_leaf_nodes=2, min_samples_split=12;, score=0.730 total time=   0.0s\n",
      "[CV 1/3; 69/80] START max_depth=12, max_leaf_nodes=8, min_samples_split=12......\n",
      "[CV 1/3; 69/80] END max_depth=12, max_leaf_nodes=8, min_samples_split=12;, score=0.722 total time=   0.0s\n",
      "[CV 2/3; 69/80] START max_depth=12, max_leaf_nodes=8, min_samples_split=12......\n",
      "[CV 2/3; 69/80] END max_depth=12, max_leaf_nodes=8, min_samples_split=12;, score=0.671 total time=   0.0s\n",
      "[CV 3/3; 69/80] START max_depth=12, max_leaf_nodes=8, min_samples_split=12......\n",
      "[CV 3/3; 69/80] END max_depth=12, max_leaf_nodes=8, min_samples_split=12;, score=0.656 total time=   0.0s\n",
      "[CV 1/3; 70/80] START max_depth=12, max_leaf_nodes=8, min_samples_split=18......\n",
      "[CV 1/3; 70/80] END max_depth=12, max_leaf_nodes=8, min_samples_split=18;, score=0.722 total time=   0.0s\n",
      "[CV 2/3; 70/80] START max_depth=12, max_leaf_nodes=8, min_samples_split=18......\n",
      "[CV 2/3; 70/80] END max_depth=12, max_leaf_nodes=8, min_samples_split=18;, score=0.671 total time=   0.0s\n",
      "[CV 3/3; 70/80] START max_depth=12, max_leaf_nodes=8, min_samples_split=18......\n",
      "[CV 3/3; 70/80] END max_depth=12, max_leaf_nodes=8, min_samples_split=18;, score=0.656 total time=   0.0s\n",
      "[CV 1/3; 71/80] START max_depth=12, max_leaf_nodes=8, min_samples_split=20......\n",
      "[CV 1/3; 71/80] END max_depth=12, max_leaf_nodes=8, min_samples_split=20;, score=0.722 total time=   0.0s\n",
      "[CV 2/3; 71/80] START max_depth=12, max_leaf_nodes=8, min_samples_split=20......\n",
      "[CV 2/3; 71/80] END max_depth=12, max_leaf_nodes=8, min_samples_split=20;, score=0.671 total time=   0.0s\n",
      "[CV 3/3; 71/80] START max_depth=12, max_leaf_nodes=8, min_samples_split=20......\n",
      "[CV 3/3; 71/80] END max_depth=12, max_leaf_nodes=8, min_samples_split=20;, score=0.656 total time=   0.0s\n",
      "[CV 1/3; 72/80] START max_depth=12, max_leaf_nodes=8, min_samples_split=12......\n",
      "[CV 1/3; 72/80] END max_depth=12, max_leaf_nodes=8, min_samples_split=12;, score=0.722 total time=   0.0s\n",
      "[CV 2/3; 72/80] START max_depth=12, max_leaf_nodes=8, min_samples_split=12......\n",
      "[CV 2/3; 72/80] END max_depth=12, max_leaf_nodes=8, min_samples_split=12;, score=0.671 total time=   0.0s\n",
      "[CV 3/3; 72/80] START max_depth=12, max_leaf_nodes=8, min_samples_split=12......\n",
      "[CV 3/3; 72/80] END max_depth=12, max_leaf_nodes=8, min_samples_split=12;, score=0.656 total time=   0.0s\n",
      "[CV 1/3; 73/80] START max_depth=12, max_leaf_nodes=10, min_samples_split=12.....\n",
      "[CV 1/3; 73/80] END max_depth=12, max_leaf_nodes=10, min_samples_split=12;, score=0.704 total time=   0.0s\n",
      "[CV 2/3; 73/80] START max_depth=12, max_leaf_nodes=10, min_samples_split=12.....\n",
      "[CV 2/3; 73/80] END max_depth=12, max_leaf_nodes=10, min_samples_split=12;, score=0.686 total time=   0.0s\n",
      "[CV 3/3; 73/80] START max_depth=12, max_leaf_nodes=10, min_samples_split=12.....\n",
      "[CV 3/3; 73/80] END max_depth=12, max_leaf_nodes=10, min_samples_split=12;, score=0.677 total time=   0.0s\n",
      "[CV 1/3; 74/80] START max_depth=12, max_leaf_nodes=10, min_samples_split=18.....\n",
      "[CV 1/3; 74/80] END max_depth=12, max_leaf_nodes=10, min_samples_split=18;, score=0.704 total time=   0.0s\n",
      "[CV 2/3; 74/80] START max_depth=12, max_leaf_nodes=10, min_samples_split=18.....\n",
      "[CV 2/3; 74/80] END max_depth=12, max_leaf_nodes=10, min_samples_split=18;, score=0.686 total time=   0.0s\n",
      "[CV 3/3; 74/80] START max_depth=12, max_leaf_nodes=10, min_samples_split=18.....\n",
      "[CV 3/3; 74/80] END max_depth=12, max_leaf_nodes=10, min_samples_split=18;, score=0.662 total time=   0.0s\n",
      "[CV 1/3; 75/80] START max_depth=12, max_leaf_nodes=10, min_samples_split=20.....\n",
      "[CV 1/3; 75/80] END max_depth=12, max_leaf_nodes=10, min_samples_split=20;, score=0.704 total time=   0.0s\n",
      "[CV 2/3; 75/80] START max_depth=12, max_leaf_nodes=10, min_samples_split=20.....\n",
      "[CV 2/3; 75/80] END max_depth=12, max_leaf_nodes=10, min_samples_split=20;, score=0.686 total time=   0.0s\n",
      "[CV 3/3; 75/80] START max_depth=12, max_leaf_nodes=10, min_samples_split=20.....\n",
      "[CV 3/3; 75/80] END max_depth=12, max_leaf_nodes=10, min_samples_split=20;, score=0.662 total time=   0.0s\n",
      "[CV 1/3; 76/80] START max_depth=12, max_leaf_nodes=10, min_samples_split=12.....\n",
      "[CV 1/3; 76/80] END max_depth=12, max_leaf_nodes=10, min_samples_split=12;, score=0.704 total time=   0.0s\n",
      "[CV 2/3; 76/80] START max_depth=12, max_leaf_nodes=10, min_samples_split=12.....\n",
      "[CV 2/3; 76/80] END max_depth=12, max_leaf_nodes=10, min_samples_split=12;, score=0.686 total time=   0.0s\n",
      "[CV 3/3; 76/80] START max_depth=12, max_leaf_nodes=10, min_samples_split=12.....\n",
      "[CV 3/3; 76/80] END max_depth=12, max_leaf_nodes=10, min_samples_split=12;, score=0.677 total time=   0.0s\n",
      "[CV 1/3; 77/80] START max_depth=12, max_leaf_nodes=12, min_samples_split=12.....\n",
      "[CV 1/3; 77/80] END max_depth=12, max_leaf_nodes=12, min_samples_split=12;, score=0.726 total time=   0.0s\n",
      "[CV 2/3; 77/80] START max_depth=12, max_leaf_nodes=12, min_samples_split=12.....\n",
      "[CV 2/3; 77/80] END max_depth=12, max_leaf_nodes=12, min_samples_split=12;, score=0.686 total time=   0.0s\n",
      "[CV 3/3; 77/80] START max_depth=12, max_leaf_nodes=12, min_samples_split=12.....\n",
      "[CV 3/3; 77/80] END max_depth=12, max_leaf_nodes=12, min_samples_split=12;, score=0.685 total time=   0.0s\n",
      "[CV 1/3; 78/80] START max_depth=12, max_leaf_nodes=12, min_samples_split=18.....\n",
      "[CV 1/3; 78/80] END max_depth=12, max_leaf_nodes=12, min_samples_split=18;, score=0.726 total time=   0.0s\n",
      "[CV 2/3; 78/80] START max_depth=12, max_leaf_nodes=12, min_samples_split=18.....\n",
      "[CV 2/3; 78/80] END max_depth=12, max_leaf_nodes=12, min_samples_split=18;, score=0.686 total time=   0.0s\n",
      "[CV 3/3; 78/80] START max_depth=12, max_leaf_nodes=12, min_samples_split=18.....\n",
      "[CV 3/3; 78/80] END max_depth=12, max_leaf_nodes=12, min_samples_split=18;, score=0.671 total time=   0.0s\n",
      "[CV 1/3; 79/80] START max_depth=12, max_leaf_nodes=12, min_samples_split=20.....\n",
      "[CV 1/3; 79/80] END max_depth=12, max_leaf_nodes=12, min_samples_split=20;, score=0.726 total time=   0.0s\n",
      "[CV 2/3; 79/80] START max_depth=12, max_leaf_nodes=12, min_samples_split=20.....\n",
      "[CV 2/3; 79/80] END max_depth=12, max_leaf_nodes=12, min_samples_split=20;, score=0.686 total time=   0.0s\n",
      "[CV 3/3; 79/80] START max_depth=12, max_leaf_nodes=12, min_samples_split=20.....\n",
      "[CV 3/3; 79/80] END max_depth=12, max_leaf_nodes=12, min_samples_split=20;, score=0.671 total time=   0.0s\n",
      "[CV 1/3; 80/80] START max_depth=12, max_leaf_nodes=12, min_samples_split=12.....\n",
      "[CV 1/3; 80/80] END max_depth=12, max_leaf_nodes=12, min_samples_split=12;, score=0.726 total time=   0.0s\n",
      "[CV 2/3; 80/80] START max_depth=12, max_leaf_nodes=12, min_samples_split=12.....\n",
      "[CV 2/3; 80/80] END max_depth=12, max_leaf_nodes=12, min_samples_split=12;, score=0.686 total time=   0.0s\n",
      "[CV 3/3; 80/80] START max_depth=12, max_leaf_nodes=12, min_samples_split=12.....\n"
     ]
    },
    {
     "name": "stdout",
     "output_type": "stream",
     "text": [
      "[CV 3/3; 80/80] END max_depth=12, max_leaf_nodes=12, min_samples_split=12;, score=0.685 total time=   0.0s\n"
     ]
    }
   ],
   "source": [
    "param_grid={\n",
    "    \"max_depth\":[2,4,6,8,12], ##lower is better33\n",
    "    \"min_samples_split\":[12,18,20,12], ##higher is better\n",
    "    \"max_leaf_nodes\":[2,8,10,12],  ##lower is better \n",
    "}\n",
    "gs=GridSearchCV(tree,param_grid,cv=3,scoring=make_scorer(f1_score), verbose=32)\n",
    "gs.fit(X_train,y_train)\n",
    "tree=gs.best_estimator_"
   ]
  },
  {
   "cell_type": "markdown",
   "id": "72752d4b",
   "metadata": {},
   "source": [
    "***observation**\n",
    "\n",
    "it will create 80 different  models (5 times 4 times4) the one with  highest f1 score is the one best estimator will select as we can see below "
   ]
  },
  {
   "cell_type": "code",
   "execution_count": 95,
   "id": "bd95205e",
   "metadata": {},
   "outputs": [
    {
     "data": {
      "text/plain": [
       "DecisionTreeClassifier(max_depth=4, max_leaf_nodes=10, min_samples_split=12)"
      ]
     },
     "execution_count": 95,
     "metadata": {},
     "output_type": "execute_result"
    }
   ],
   "source": [
    "tree"
   ]
  },
  {
   "cell_type": "markdown",
   "id": "cfce34d6",
   "metadata": {},
   "source": [
    "**Decision tree classifiers takes a lot of hyper parameters which include\n",
    "\n",
    "1. max depth\n",
    "2. min samples \n",
    "3. max leaf \n",
    "\n",
    "\n",
    "if we  increase the max depth , the training score tends to inccrease but the testing may  not necessarily increase "
   ]
  },
  {
   "cell_type": "markdown",
   "id": "5939be70",
   "metadata": {},
   "source": [
    "**observation**\n",
    "\n",
    "1. tree = DecisionTreeClassifier(max_depth=2,min_samples_split=12, max_leaf_nodes=2) f1 score of 80 percent\n",
    "2. tree = DecisionTreeClassifier(max_depth=4,min_samples_split=18, max_leaf_nodes=8) f1 sore of 70percent \n",
    "\n",
    "\n",
    "what this stuff does is that it gives you the model with the best f1 score that is the mean of precision and recall , a high f1 score is good\n",
    " "
   ]
  },
  {
   "cell_type": "code",
   "execution_count": 76,
   "id": "96749cd5",
   "metadata": {},
   "outputs": [
    {
     "data": {
      "text/plain": [
       "DecisionTreeClassifier(max_depth=4, max_leaf_nodes=8, min_samples_split=18)"
      ]
     },
     "execution_count": 76,
     "metadata": {},
     "output_type": "execute_result"
    }
   ],
   "source": [
    "tree.fit(X_train,y_train)"
   ]
  },
  {
   "cell_type": "code",
   "execution_count": 77,
   "id": "8fefd345",
   "metadata": {},
   "outputs": [
    {
     "data": {
      "text/plain": [
       "0.8308383233532934"
      ]
     },
     "execution_count": 77,
     "metadata": {},
     "output_type": "execute_result"
    }
   ],
   "source": [
    "tree.score(X_train,y_train)"
   ]
  },
  {
   "cell_type": "code",
   "execution_count": 96,
   "id": "279e2563",
   "metadata": {},
   "outputs": [
    {
     "data": {
      "text/plain": [
       "0.8116591928251121"
      ]
     },
     "execution_count": 96,
     "metadata": {},
     "output_type": "execute_result"
    }
   ],
   "source": [
    "tree.score(X_test,y_test)"
   ]
  },
  {
   "cell_type": "code",
   "execution_count": 78,
   "id": "ba14b2a5",
   "metadata": {},
   "outputs": [],
   "source": [
    "prediction=tree.predict(X_test)"
   ]
  },
  {
   "cell_type": "code",
   "execution_count": 79,
   "id": "3c341e56",
   "metadata": {},
   "outputs": [
    {
     "data": {
      "text/plain": [
       "array([[113,  21],\n",
       "       [ 22,  67]], dtype=int64)"
      ]
     },
     "execution_count": 79,
     "metadata": {},
     "output_type": "execute_result"
    }
   ],
   "source": [
    "confusion_matrix(y_test, prediction)"
   ]
  },
  {
   "cell_type": "markdown",
   "id": "f08ed32b",
   "metadata": {},
   "source": [
    "**observation**\n",
    "\n",
    "1. tp : the computer predicted died 144 times and  it was actually died \n",
    "2. fn: the computer predicted survived 20 times it was actually died \n",
    "3. fp : the computer predicted died 22 times and it was actually survived\n",
    "4. tn : the computer predicted survived 62 times and it was actually survived"
   ]
  },
  {
   "cell_type": "code",
   "execution_count": 80,
   "id": "089ebc05",
   "metadata": {},
   "outputs": [
    {
     "name": "stdout",
     "output_type": "stream",
     "text": [
      "              precision    recall  f1-score   support\n",
      "\n",
      "           0       0.84      0.84      0.84       135\n",
      "           1       0.75      0.76      0.76        88\n",
      "\n",
      "    accuracy                           0.81       223\n",
      "   macro avg       0.80      0.80      0.80       223\n",
      "weighted avg       0.81      0.81      0.81       223\n",
      "\n"
     ]
    }
   ],
   "source": [
    "print(classification_report(prediction, y_test))"
   ]
  },
  {
   "cell_type": "code",
   "execution_count": 81,
   "id": "4d5c0858",
   "metadata": {},
   "outputs": [
    {
     "data": {
      "text/plain": [
       "0.7613636363636364"
      ]
     },
     "execution_count": 81,
     "metadata": {},
     "output_type": "execute_result"
    }
   ],
   "source": [
    "precision_score(y_test,prediction)"
   ]
  },
  {
   "cell_type": "code",
   "execution_count": 82,
   "id": "13aaa690",
   "metadata": {},
   "outputs": [
    {
     "data": {
      "text/plain": [
       "0.7528089887640449"
      ]
     },
     "execution_count": 82,
     "metadata": {},
     "output_type": "execute_result"
    }
   ],
   "source": [
    "recall_score(y_test,prediction)"
   ]
  },
  {
   "cell_type": "code",
   "execution_count": 83,
   "id": "66894fb5",
   "metadata": {},
   "outputs": [
    {
     "data": {
      "text/plain": [
       "0.7570621468926553"
      ]
     },
     "execution_count": 83,
     "metadata": {},
     "output_type": "execute_result"
    }
   ],
   "source": [
    "f1_score(y_test,prediction)"
   ]
  },
  {
   "cell_type": "markdown",
   "id": "367f19a5",
   "metadata": {},
   "source": [
    "**ways of evaluating model performance include**\n",
    "\n",
    "1. accuracy score\n",
    "2. cofusion matrix\n",
    "3. precision\n",
    "4. recall\n",
    "5. f1 score summarises both precision and recall with one valuee \n",
    "6. classification report gives all information in one place \n",
    "\n",
    "accuracy score can be used for only balanced data set , where the difference between dead and survived quiet balance \n",
    "\n",
    "for a situation where the difference between the dead and survived is too large eg 99 percent to 1. the  data is said to be inbalanced and you cant use or rely on accuracy score , you use the rest evaluating model apart  from accuracy score. \n",
    "\n",
    "increase the max depth the training score but the testing score might not necessarily increase \n",
    "but the fewer the max depth the better your model\n"
   ]
  },
  {
   "cell_type": "code",
   "execution_count": null,
   "id": "e1d91b97",
   "metadata": {},
   "outputs": [],
   "source": []
  },
  {
   "cell_type": "code",
   "execution_count": null,
   "id": "25762b41",
   "metadata": {},
   "outputs": [],
   "source": []
  },
  {
   "cell_type": "code",
   "execution_count": null,
   "id": "742dfdc3",
   "metadata": {},
   "outputs": [],
   "source": []
  },
  {
   "cell_type": "code",
   "execution_count": null,
   "id": "8173bbb2",
   "metadata": {},
   "outputs": [],
   "source": []
  },
  {
   "cell_type": "code",
   "execution_count": null,
   "id": "7a57edd0",
   "metadata": {},
   "outputs": [],
   "source": []
  },
  {
   "cell_type": "code",
   "execution_count": null,
   "id": "1bc76898",
   "metadata": {},
   "outputs": [],
   "source": []
  },
  {
   "cell_type": "code",
   "execution_count": null,
   "id": "d01e1dd4",
   "metadata": {},
   "outputs": [],
   "source": []
  },
  {
   "cell_type": "code",
   "execution_count": null,
   "id": "0dadc685",
   "metadata": {},
   "outputs": [],
   "source": []
  }
 ],
 "metadata": {
  "kernelspec": {
   "display_name": "Python 3 (ipykernel)",
   "language": "python",
   "name": "python3"
  },
  "language_info": {
   "codemirror_mode": {
    "name": "ipython",
    "version": 3
   },
   "file_extension": ".py",
   "mimetype": "text/x-python",
   "name": "python",
   "nbconvert_exporter": "python",
   "pygments_lexer": "ipython3",
   "version": "3.7.4"
  }
 },
 "nbformat": 4,
 "nbformat_minor": 5
}
